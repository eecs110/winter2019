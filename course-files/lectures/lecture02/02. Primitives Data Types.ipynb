{
 "cells": [
  {
   "cell_type": "markdown",
   "metadata": {},
   "source": [
    "# PRIMITIVE DATA TYPES"
   ]
  },
  {
   "cell_type": "markdown",
   "metadata": {},
   "source": [
    "## Example 1: Numbers\n",
    "A sample of int and float data types, and some of the legal operations."
   ]
  },
  {
   "cell_type": "code",
   "execution_count": 1,
   "metadata": {},
   "outputs": [
    {
     "name": "stdout",
     "output_type": "stream",
     "text": [
      "40\n"
     ]
    }
   ],
   "source": [
    "print(10 * 4)"
   ]
  },
  {
   "cell_type": "code",
   "execution_count": 2,
   "metadata": {},
   "outputs": [
    {
     "name": "stdout",
     "output_type": "stream",
     "text": [
      "100\n"
     ]
    }
   ],
   "source": [
    "print(100)      # int "
   ]
  },
  {
   "cell_type": "code",
   "execution_count": 3,
   "metadata": {},
   "outputs": [
    {
     "name": "stdout",
     "output_type": "stream",
     "text": [
      "3.3333333333333335\n"
     ]
    }
   ],
   "source": [
    "print(10 / 3)  # float"
   ]
  },
  {
   "cell_type": "code",
   "execution_count": 4,
   "metadata": {},
   "outputs": [
    {
     "name": "stdout",
     "output_type": "stream",
     "text": [
      "5.0\n"
     ]
    }
   ],
   "source": [
    "print(10 / 2)  # still a float -- dividing 2 numbers is always a float"
   ]
  },
  {
   "cell_type": "code",
   "execution_count": 5,
   "metadata": {},
   "outputs": [
    {
     "name": "stdout",
     "output_type": "stream",
     "text": [
      "16\n"
     ]
    }
   ],
   "source": [
    "print(2 ** 4)  # exponent"
   ]
  },
  {
   "cell_type": "code",
   "execution_count": 6,
   "metadata": {},
   "outputs": [
    {
     "name": "stdout",
     "output_type": "stream",
     "text": [
      "11846983883754703853103847078255014232357980633236112468167957903931456299353684252788706535594207030860361658429143917444384983449864453753011406325277228982994883723374969161769865551793262323342562523940376712842939785345323043743899446879167036389153076418930502443303358779604160765077609386460412378392692040369216927153427094924334398318467321646442520865428992370205688833420362116432258112168956431175760757873252611061211771882692812542264566086277491346303429119349657476319487675688140972230965060997596032660056345930666549661541627617899275956648578426858367879679627893453771524260517040711871932485235588268554052254994947483311766878729503032673877699420439537586600230068763439828899247384388761198095039398443514468440170377041218716047520392790917514994035148349222297578463849994494159836248867643554901548221038552363070195079046372254179416198581634623986550483189775681587974088740298772858296697529366860455547542898381355611708130742374270670504835223081176335856283873978609440168779413844842594222332467688861597062573465985400370506333949449338160083214438611503657481033280461699058501076978611861242691398128448203154869617694131467023971320362291894234758653392586806500930269129677319038383631990935724363812507549930727214035346792581670143146117090556132428091471627199952418735635707068874021847339677225069521260638598944667696172301103675034361181846737181837659706301633242076602828715922462576038994845164673544612904416618985409047294857973307670646203739888067116626810351091459846459300697653479961854688393708683443195154758882746080108355475240280872836207530105209333088798384992214245758290179451660107258878326574672203825825664281527637006455861177131242088161332078439103680892439900836691793936828884516487070388827739704925113159809421129586673171295079247172852085309514606903967941449883904113734418875014553204938291677318188928971129975902491433290711048950006587303400826186615602995702613537201430157595046599527740468693677991256040758710858153295919439026326686166001157506566620162795326103067750048494440530041133488834996727673916036259688534959919704704243795807906094153425353178325411833288594459349576204944348633009600402157053695047309517479922828242733431169219003167895638420082448920358137441220647345376428155015881174725097533290597634212339573506856528572802504321914233881317511806226395102576568844006283601923045887029440310206880123440778518346675549773110394469787164847221822655824764296966768431978775862651100353489945268370866231228055311027029405410611439377255654642212374189752670851932847235444681889790424021194076965367865126212303390067650785510004848613482805556855776708984349287026228887304202625706785280372069716721232934745348140963137093822706288731846387583940741569816465637714952326081092621309476888212706539831235320677382137126127457483823437979638761059572057402172091035407233415902734688803045061216964003935036548258396999043382461504965492254355985155926926455949898041613974866295153627916700009562712838279060483603500024181546800275089218240278056893576763592059337252186136027361339309732814543327480685290570557790242215867409943643897446617515090989270682375563711076797433542076474227028728322819363889016404484316832673928193200929517590055857891940168005713385049980634147193902327227530770629737477749697463598339723630253660755636198643613517408360699921274408219981985925775611195844046718702197544655431737336594950329728997811509564700346224305502249417958924416505037185049003842353612670440260418426838353925839808719210834038546968197413508196057921069708966263166657903613692201109632373479966543097492806115312509272345678901103297080577632628502924261111683844706813024459379245352533980668469073500352980916303860335377276731507205376501963173740642606895518599245231964269672592530201541409128062115730222846859104834425816242360259452852751164475784197997090457418652219759548034707916090514396927527160840611451157141421373645685735266281083545348783496353449049755336544982078435539314043922969839580717298838172537644106031991609078784944285064106325652060761232622964534861043305405813512817945373110393436978130875469312591219226923055132839883322784676599142762524717347507534510591368210789466430096572043650514883786446573065682950564789830660125958622975196109426390783669566095275871635418165473266850634706538007963095938303757043963895688187535648856155954068310436199824296229949594142550927731706076340304188842724931212188034846809287506365385309013077161237917256885351592557887504888366831228099509232348235049835275105508551061875730050699643376848947177378420686570991445423069075295674793100034342075776555338706113711593485662917610402046494821182173422640258441763627262982199446595879459486970396751873086838854467783219112896347285236397998422694349517661618037476023929478412033315713206048185876970765288815883458047105601988231316168378855769443525559989637894502495208838050853676043727518869298672118748936916644226495755908446527717862837030210795165720825053253984172785580498197434051703203352121352116549467056077416249840227746651175089650895265403481625377850812851137703658299418178782329061900414284760298481813311250968284529318871071679705350165110250007275982745026257615301693730446540654923404968347412498411340116006278663893692526736659239519251074264111940373083060683268353614385171441687199589565973132404811441574002327151459578529983586275444383086435300622815570695547269549203976147328425228184107378806853556468321917487669542605645126759030463409760828249368365573856748580204907058749792773306289868347236932390438492583148779130743627018595180600493873697097583976343722565574186481007809590677535207755322589513664904523657549369562711905003321691603419375846607931871121345811363654153588357412800307542732976983758060714420393624208191088621232396314565331593438982802160685770057027194613327814487125816509747490762557182793994707859384360419989629785787236194595402917294177032900048740094498032298488518631115453901892591275951009232699112084652207836010167711757224563521577931768591138703335333216695606419029339931752021247001585224519091072421421689067205078291629760672946934601\n"
     ]
    }
   ],
   "source": [
    "print(8675309 ** 890)     # Really big number!"
   ]
  },
  {
   "cell_type": "code",
   "execution_count": 7,
   "metadata": {},
   "outputs": [
    {
     "name": "stdout",
     "output_type": "stream",
     "text": [
      "0.12345678901234568\n"
     ]
    }
   ],
   "source": [
    "print(.12345678901234567890123456789)"
   ]
  },
  {
   "cell_type": "code",
   "execution_count": 8,
   "metadata": {},
   "outputs": [
    {
     "name": "stdout",
     "output_type": "stream",
     "text": [
      "0.075\n"
     ]
    }
   ],
   "source": [
    "print(30 / 400)"
   ]
  },
  {
   "cell_type": "code",
   "execution_count": 9,
   "metadata": {},
   "outputs": [
    {
     "name": "stdout",
     "output_type": "stream",
     "text": [
      "7.5e-09\n"
     ]
    }
   ],
   "source": [
    "print(30 / 4000000000)"
   ]
  },
  {
   "cell_type": "code",
   "execution_count": 10,
   "metadata": {},
   "outputs": [
    {
     "name": "stdout",
     "output_type": "stream",
     "text": [
      "3.0\n"
     ]
    }
   ],
   "source": [
    "print(9 ** 0.5)  # square root of 9"
   ]
  },
  {
   "cell_type": "code",
   "execution_count": 11,
   "metadata": {},
   "outputs": [
    {
     "name": "stdout",
     "output_type": "stream",
     "text": [
      "3.605551275463989\n"
     ]
    }
   ],
   "source": [
    "print(13 ** 0.5)"
   ]
  },
  {
   "cell_type": "code",
   "execution_count": 12,
   "metadata": {},
   "outputs": [
    {
     "name": "stdout",
     "output_type": "stream",
     "text": [
      "12.999999999999998\n"
     ]
    }
   ],
   "source": [
    "print((13 ** 0.5) ** 2)  # square root of 13 squared (not quite the original, but close)"
   ]
  },
  {
   "cell_type": "code",
   "execution_count": 13,
   "metadata": {},
   "outputs": [
    {
     "name": "stdout",
     "output_type": "stream",
     "text": [
      "3.0\n"
     ]
    }
   ],
   "source": [
    "print(float(3))"
   ]
  },
  {
   "cell_type": "code",
   "execution_count": 14,
   "metadata": {},
   "outputs": [
    {
     "name": "stdout",
     "output_type": "stream",
     "text": [
      "6\n"
     ]
    }
   ],
   "source": [
    "print(int(6.75))  # note: doesn't round, but truncates"
   ]
  },
  {
   "cell_type": "markdown",
   "metadata": {},
   "source": [
    "## Example 2: Strings"
   ]
  },
  {
   "cell_type": "code",
   "execution_count": 15,
   "metadata": {},
   "outputs": [
    {
     "name": "stdout",
     "output_type": "stream",
     "text": [
      "Flavor\n"
     ]
    }
   ],
   "source": [
    "print('Flavor')"
   ]
  },
  {
   "cell_type": "code",
   "execution_count": 16,
   "metadata": {},
   "outputs": [
    {
     "name": "stdout",
     "output_type": "stream",
     "text": [
      "any snippet of text\n"
     ]
    }
   ],
   "source": [
    "print('any snippet of text')"
   ]
  },
  {
   "cell_type": "code",
   "execution_count": 17,
   "metadata": {
    "scrolled": true
   },
   "outputs": [
    {
     "name": "stdout",
     "output_type": "stream",
     "text": [
      "2xyz\n"
     ]
    }
   ],
   "source": [
    "print('2' + 'xyz')    # concatenation"
   ]
  },
  {
   "cell_type": "code",
   "execution_count": 18,
   "metadata": {},
   "outputs": [
    {
     "name": "stdout",
     "output_type": "stream",
     "text": [
      "22\n"
     ]
    }
   ],
   "source": [
    "print('2' + '2')  # how would you get this to calculate the sum of 2 + 2?"
   ]
  },
  {
   "cell_type": "code",
   "execution_count": 19,
   "metadata": {},
   "outputs": [
    {
     "name": "stdout",
     "output_type": "stream",
     "text": [
      "strawberry\n"
     ]
    }
   ],
   "source": [
    "print('straw' + 'berry')"
   ]
  },
  {
   "cell_type": "code",
   "execution_count": 20,
   "metadata": {},
   "outputs": [
    {
     "name": "stdout",
     "output_type": "stream",
     "text": [
      "two words\n"
     ]
    }
   ],
   "source": [
    "print('two ' + 'words')  # don't forget the space!"
   ]
  },
  {
   "cell_type": "code",
   "execution_count": 21,
   "metadata": {},
   "outputs": [
    {
     "name": "stdout",
     "output_type": "stream",
     "text": [
      "I rule. I rule. I rule. I rule. I rule. I rule. I rule. I rule. I rule. I rule. I rule. I rule. I rule. I rule. I rule. I rule. I rule. I rule. I rule. I rule. I rule. I rule. I rule. I rule. I rule. I rule. I rule. I rule. I rule. I rule. I rule. I rule. I rule. I rule. I rule. I rule. I rule. I rule. I rule. I rule. I rule. I rule. I rule. I rule. I rule. I rule. I rule. I rule. I rule. I rule. \n"
     ]
    }
   ],
   "source": [
    "print('I rule. ' * 50)"
   ]
  },
  {
   "cell_type": "code",
   "execution_count": 22,
   "metadata": {},
   "outputs": [],
   "source": [
    "# Note: this will produce an error because you can't add a number and a string together\n",
    "# uncomment the line below to see what happens:\n",
    "# print(2 + 'x')"
   ]
  },
  {
   "cell_type": "code",
   "execution_count": 23,
   "metadata": {},
   "outputs": [],
   "source": [
    "# Note: this will produce an error because the apostrophe is not escaped.\n",
    "# uncomment the line below to see what happens:\n",
    "# print('I'm a programmer!')"
   ]
  },
  {
   "cell_type": "code",
   "execution_count": 24,
   "metadata": {},
   "outputs": [
    {
     "name": "stdout",
     "output_type": "stream",
     "text": [
      "I'm a programmer!\n"
     ]
    }
   ],
   "source": [
    "# In this example, the apostrophe is properly escaped with a backslash character.\n",
    "print('I\\'m a programmer!')"
   ]
  },
  {
   "cell_type": "code",
   "execution_count": 25,
   "metadata": {},
   "outputs": [
    {
     "name": "stdout",
     "output_type": "stream",
     "text": [
      "Here is a sentance without a newline character (\\n).\n"
     ]
    }
   ],
   "source": [
    "print('Here is a sentance without a newline character (\\\\n).')"
   ]
  },
  {
   "cell_type": "code",
   "execution_count": 26,
   "metadata": {},
   "outputs": [
    {
     "name": "stdout",
     "output_type": "stream",
     "text": [
      "Here is a sentance with\n",
      "two new\n",
      "line characters (\\n).\n"
     ]
    }
   ],
   "source": [
    "# Note: two \\n newline characters.\n",
    "print('Here is a sentance with\\ntwo new\\nline characters (\\\\n).')"
   ]
  },
  {
   "cell_type": "markdown",
   "metadata": {},
   "source": [
    "## Example 3: Booleans"
   ]
  },
  {
   "cell_type": "code",
   "execution_count": 27,
   "metadata": {},
   "outputs": [
    {
     "name": "stdout",
     "output_type": "stream",
     "text": [
      "True\n"
     ]
    }
   ],
   "source": [
    "print(True)"
   ]
  },
  {
   "cell_type": "code",
   "execution_count": 28,
   "metadata": {},
   "outputs": [
    {
     "name": "stdout",
     "output_type": "stream",
     "text": [
      "True\n"
     ]
    }
   ],
   "source": [
    "print(123 == 123)  # expression that evaluates to true using comparison operator (==, >, <, >=, <=, etc.)"
   ]
  },
  {
   "cell_type": "code",
   "execution_count": 29,
   "metadata": {},
   "outputs": [
    {
     "name": "stdout",
     "output_type": "stream",
     "text": [
      "False\n"
     ]
    }
   ],
   "source": [
    "print(123 == 124)  # expression that evaluates to false using comparison operator"
   ]
  },
  {
   "cell_type": "code",
   "execution_count": 30,
   "metadata": {},
   "outputs": [
    {
     "name": "stdout",
     "output_type": "stream",
     "text": [
      "False\n"
     ]
    }
   ],
   "source": [
    "print(True and False)  # expression that evaluates to false using logical operator (and, or, not)"
   ]
  },
  {
   "cell_type": "code",
   "execution_count": 31,
   "metadata": {},
   "outputs": [
    {
     "name": "stdout",
     "output_type": "stream",
     "text": [
      "True\n"
     ]
    }
   ],
   "source": [
    "print(True or False)"
   ]
  },
  {
   "cell_type": "code",
   "execution_count": 32,
   "metadata": {},
   "outputs": [
    {
     "name": "stdout",
     "output_type": "stream",
     "text": [
      "False\n"
     ]
    }
   ],
   "source": [
    "print(123 == 123 and 123 == 124) # you can combine expressions using logical operators"
   ]
  },
  {
   "cell_type": "code",
   "execution_count": 33,
   "metadata": {},
   "outputs": [
    {
     "name": "stdout",
     "output_type": "stream",
     "text": [
      "True\n"
     ]
    }
   ],
   "source": [
    "print(123 == 123 or 123 == 124)"
   ]
  },
  {
   "cell_type": "code",
   "execution_count": 34,
   "metadata": {},
   "outputs": [
    {
     "name": "stdout",
     "output_type": "stream",
     "text": [
      "3\n"
     ]
    }
   ],
   "source": [
    "print(True + True + True)  # True converts to the value 1 (you will rarely do this)"
   ]
  },
  {
   "cell_type": "code",
   "execution_count": 35,
   "metadata": {},
   "outputs": [
    {
     "name": "stdout",
     "output_type": "stream",
     "text": [
      "0\n"
     ]
    }
   ],
   "source": [
    "print(False + False)  # True converts to the value 0"
   ]
  },
  {
   "cell_type": "code",
   "execution_count": 36,
   "metadata": {},
   "outputs": [
    {
     "name": "stdout",
     "output_type": "stream",
     "text": [
      "True\n"
     ]
    }
   ],
   "source": [
    "print(True > False)"
   ]
  },
  {
   "cell_type": "code",
   "execution_count": 37,
   "metadata": {},
   "outputs": [
    {
     "name": "stdout",
     "output_type": "stream",
     "text": [
      "False\n"
     ]
    }
   ],
   "source": [
    "print(False or False)"
   ]
  },
  {
   "cell_type": "code",
   "execution_count": 38,
   "metadata": {},
   "outputs": [
    {
     "name": "stdout",
     "output_type": "stream",
     "text": [
      "False\n"
     ]
    }
   ],
   "source": [
    "print(False and False)"
   ]
  },
  {
   "cell_type": "code",
   "execution_count": 39,
   "metadata": {},
   "outputs": [
    {
     "name": "stdout",
     "output_type": "stream",
     "text": [
      "False\n"
     ]
    }
   ],
   "source": [
    "print(False and True)"
   ]
  },
  {
   "cell_type": "code",
   "execution_count": 40,
   "metadata": {},
   "outputs": [
    {
     "name": "stdout",
     "output_type": "stream",
     "text": [
      "True\n"
     ]
    }
   ],
   "source": [
    "print(not False)"
   ]
  },
  {
   "cell_type": "code",
   "execution_count": 41,
   "metadata": {},
   "outputs": [
    {
     "name": "stdout",
     "output_type": "stream",
     "text": [
      "False\n"
     ]
    }
   ],
   "source": [
    "print(not True)"
   ]
  },
  {
   "cell_type": "markdown",
   "metadata": {},
   "source": [
    "## Example 4: Detecting data types"
   ]
  },
  {
   "cell_type": "code",
   "execution_count": 42,
   "metadata": {},
   "outputs": [
    {
     "name": "stdout",
     "output_type": "stream",
     "text": [
      "<class 'float'>\n"
     ]
    }
   ],
   "source": [
    "print(type(2.3))"
   ]
  },
  {
   "cell_type": "code",
   "execution_count": 43,
   "metadata": {},
   "outputs": [
    {
     "name": "stdout",
     "output_type": "stream",
     "text": [
      "<class 'int'>\n"
     ]
    }
   ],
   "source": [
    "print(type(100))"
   ]
  },
  {
   "cell_type": "code",
   "execution_count": 44,
   "metadata": {},
   "outputs": [
    {
     "name": "stdout",
     "output_type": "stream",
     "text": [
      "<class 'str'>\n"
     ]
    }
   ],
   "source": [
    "print(type('abcd'))"
   ]
  },
  {
   "cell_type": "code",
   "execution_count": 45,
   "metadata": {},
   "outputs": [
    {
     "name": "stdout",
     "output_type": "stream",
     "text": [
      "<class 'float'>\n"
     ]
    }
   ],
   "source": [
    "a = 5.7\n",
    "print(type(a))"
   ]
  },
  {
   "cell_type": "code",
   "execution_count": 46,
   "metadata": {},
   "outputs": [
    {
     "name": "stdout",
     "output_type": "stream",
     "text": [
      "<class 'bool'>\n"
     ]
    }
   ],
   "source": [
    "print(type(True))"
   ]
  },
  {
   "cell_type": "code",
   "execution_count": 47,
   "metadata": {},
   "outputs": [
    {
     "name": "stdout",
     "output_type": "stream",
     "text": [
      "<class 'int'>\n"
     ]
    }
   ],
   "source": [
    "print(type(0))"
   ]
  },
  {
   "cell_type": "code",
   "execution_count": 48,
   "metadata": {},
   "outputs": [
    {
     "name": "stdout",
     "output_type": "stream",
     "text": [
      "<class 'bool'>\n"
     ]
    }
   ],
   "source": [
    "print(type (123 == 124))"
   ]
  },
  {
   "cell_type": "code",
   "execution_count": 49,
   "metadata": {},
   "outputs": [
    {
     "name": "stdout",
     "output_type": "stream",
     "text": [
      "<class 'bool'>\n"
     ]
    }
   ],
   "source": [
    "print(type(123 == 123 and 123 == 124))"
   ]
  },
  {
   "cell_type": "markdown",
   "metadata": {},
   "source": [
    "## Example 5: Converting between data types"
   ]
  },
  {
   "cell_type": "code",
   "execution_count": 50,
   "metadata": {},
   "outputs": [
    {
     "name": "stdout",
     "output_type": "stream",
     "text": [
      "2.3\n"
     ]
    }
   ],
   "source": [
    "print(float('2.3'))  # converts a string to a float"
   ]
  },
  {
   "cell_type": "code",
   "execution_count": 51,
   "metadata": {},
   "outputs": [
    {
     "name": "stdout",
     "output_type": "stream",
     "text": [
      "2\n"
     ]
    }
   ],
   "source": [
    "print(str(2))"
   ]
  },
  {
   "cell_type": "code",
   "execution_count": 52,
   "metadata": {},
   "outputs": [
    {
     "name": "stdout",
     "output_type": "stream",
     "text": [
      "2\n"
     ]
    }
   ],
   "source": [
    "print(int('2'))"
   ]
  },
  {
   "cell_type": "code",
   "execution_count": 53,
   "metadata": {},
   "outputs": [],
   "source": [
    "# print(int('2.5'))  # this will throw an error. Give it a try."
   ]
  },
  {
   "cell_type": "code",
   "execution_count": 54,
   "metadata": {},
   "outputs": [
    {
     "name": "stdout",
     "output_type": "stream",
     "text": [
      "['3', '2']\n"
     ]
    }
   ],
   "source": [
    "print(str(['3', '2']))"
   ]
  },
  {
   "cell_type": "code",
   "execution_count": 55,
   "metadata": {},
   "outputs": [
    {
     "name": "stdout",
     "output_type": "stream",
     "text": [
      "1\n"
     ]
    }
   ],
   "source": [
    "print(int(True))"
   ]
  },
  {
   "cell_type": "code",
   "execution_count": 56,
   "metadata": {},
   "outputs": [
    {
     "name": "stdout",
     "output_type": "stream",
     "text": [
      "0\n"
     ]
    }
   ],
   "source": [
    "print(int(0))"
   ]
  },
  {
   "cell_type": "code",
   "execution_count": 57,
   "metadata": {},
   "outputs": [
    {
     "name": "stdout",
     "output_type": "stream",
     "text": [
      "False\n"
     ]
    }
   ],
   "source": [
    "print(bool(None))"
   ]
  },
  {
   "cell_type": "code",
   "execution_count": 58,
   "metadata": {},
   "outputs": [
    {
     "name": "stdout",
     "output_type": "stream",
     "text": [
      "False\n"
     ]
    }
   ],
   "source": [
    "print(bool(0))  # 0 is also used to denote false"
   ]
  },
  {
   "cell_type": "code",
   "execution_count": 59,
   "metadata": {},
   "outputs": [
    {
     "name": "stdout",
     "output_type": "stream",
     "text": [
      "True\n"
     ]
    }
   ],
   "source": [
    "print(bool(1))  # 1 is also used to denote true"
   ]
  },
  {
   "cell_type": "code",
   "execution_count": 60,
   "metadata": {},
   "outputs": [
    {
     "name": "stdout",
     "output_type": "stream",
     "text": [
      "True\n"
     ]
    }
   ],
   "source": [
    "print(bool('Hey there!'))  # any non-zero or non-null value converts to true"
   ]
  }
 ],
 "metadata": {
  "anaconda-cloud": {},
  "kernelspec": {
   "display_name": "Python 3",
   "language": "python",
   "name": "python3"
  },
  "language_info": {
   "codemirror_mode": {
    "name": "ipython",
    "version": 3
   },
   "file_extension": ".py",
   "mimetype": "text/x-python",
   "name": "python",
   "nbconvert_exporter": "python",
   "pygments_lexer": "ipython3",
   "version": "3.7.0"
  }
 },
 "nbformat": 4,
 "nbformat_minor": 1
}
