{
 "cells": [
  {
   "cell_type": "markdown",
   "metadata": {},
   "source": [
    "# OPERATORS\n",
    "Operators are special symbols in Python that carry out arithmetic or logical computation. The value that the operator operates on is called the operand (e.g. a, b, and c below). Operators do different things depending on the **data type** of the operand. In this section, we will go over four kinds of operators:\n",
    "\n",
    "1. [Arithmetic Operators](#1.-Arithmetic-Operators)\n",
    "2. [Comparison Operators](#2.-Comparison-Operators)\n",
    "3. [Logical Operators](#3.-Logical-Operators)\n",
    "4. [Assignment Operators](#4.-Assignment-Operators)"
   ]
  },
  {
   "cell_type": "markdown",
   "metadata": {},
   "source": [
    "## 1. Arithmetic Operators\n",
    "Arithmetic operators help you to perform mathematical calculations, and always return a value (or an error):\n",
    "\n",
    "| Operator | Name | Description |\n",
    "|--|--|--|\n",
    "| + | Addition | Adds values on either side of the operator |\n",
    "| - | Subtraction | Subtracts right hand operand from left hand operand |\n",
    "| * | Multiplication |\tMultiplies values on either side of the operator |\n",
    "| / | Division | Divides left hand operand by right hand operand\t|\n",
    "| % | Modulus | Divides left hand operand by right hand operand and returns remainder |\n",
    "| \\*\\* | Exponent | Performs exponential (power) calculation on operators\t|\n",
    "| // | Floor Division | The division of operands where the result is the quotient in which the digits after the decimal point are removed. But if one of the operands is negative, the result is floored, i.e., rounded away from zero (towards negative infinity) |\n"
   ]
  },
  {
   "cell_type": "markdown",
   "metadata": {},
   "source": [
    "### 1.1. Numbers"
   ]
  },
  {
   "cell_type": "code",
   "execution_count": 1,
   "metadata": {},
   "outputs": [],
   "source": [
    "# initialize variables for demo:\n",
    "a = 20\n",
    "b = 10\n",
    "c = 25"
   ]
  },
  {
   "cell_type": "code",
   "execution_count": 2,
   "metadata": {},
   "outputs": [
    {
     "name": "stdout",
     "output_type": "stream",
     "text": [
      "30\n"
     ]
    }
   ],
   "source": [
    "print(a + b)    # addition"
   ]
  },
  {
   "cell_type": "code",
   "execution_count": 3,
   "metadata": {},
   "outputs": [
    {
     "name": "stdout",
     "output_type": "stream",
     "text": [
      "10\n"
     ]
    }
   ],
   "source": [
    "print(a - b)    # subtraction"
   ]
  },
  {
   "cell_type": "code",
   "execution_count": 4,
   "metadata": {},
   "outputs": [
    {
     "name": "stdout",
     "output_type": "stream",
     "text": [
      "200\n"
     ]
    }
   ],
   "source": [
    "print(a * b)    # multiplication"
   ]
  },
  {
   "cell_type": "code",
   "execution_count": 5,
   "metadata": {},
   "outputs": [
    {
     "name": "stdout",
     "output_type": "stream",
     "text": [
      "0.5\n"
     ]
    }
   ],
   "source": [
    "print(b / a)    # division (notice the result is a float)"
   ]
  },
  {
   "cell_type": "code",
   "execution_count": 6,
   "metadata": {},
   "outputs": [
    {
     "name": "stdout",
     "output_type": "stream",
     "text": [
      "5\n"
     ]
    }
   ],
   "source": [
    "print(c % a)    # modulus  25 / 20 = 1 with 5 left over (remained = 5)"
   ]
  },
  {
   "cell_type": "code",
   "execution_count": 7,
   "metadata": {},
   "outputs": [
    {
     "name": "stdout",
     "output_type": "stream",
     "text": [
      "1\n"
     ]
    }
   ],
   "source": [
    "print(c // a)  # quotient  25 / 20 = 1 with 5 left over (quotient = 1)"
   ]
  },
  {
   "cell_type": "code",
   "execution_count": 8,
   "metadata": {},
   "outputs": [
    {
     "name": "stdout",
     "output_type": "stream",
     "text": [
      "10240000000000\n"
     ]
    }
   ],
   "source": [
    "print(a ** b)  # exponent"
   ]
  },
  {
   "cell_type": "code",
   "execution_count": 9,
   "metadata": {},
   "outputs": [
    {
     "name": "stdout",
     "output_type": "stream",
     "text": [
      "5.0\n"
     ]
    }
   ],
   "source": [
    "print(c ** (1/2))  # square root (notice the result is a float)"
   ]
  },
  {
   "cell_type": "markdown",
   "metadata": {},
   "source": [
    "### 1.2. Strings"
   ]
  },
  {
   "cell_type": "code",
   "execution_count": 10,
   "metadata": {},
   "outputs": [
    {
     "name": "stdout",
     "output_type": "stream",
     "text": [
      "3434\n"
     ]
    }
   ],
   "source": [
    "print('34' + '34')  # in the context of a string, the + sign concatenates two strings"
   ]
  },
  {
   "cell_type": "code",
   "execution_count": 11,
   "metadata": {},
   "outputs": [],
   "source": [
    "# Note: not all operators work with all datatypes. \n",
    "# Uncomment the line below to see what happens.\n",
    "# print('34' - '34')"
   ]
  },
  {
   "cell_type": "code",
   "execution_count": 12,
   "metadata": {},
   "outputs": [
    {
     "name": "stdout",
     "output_type": "stream",
     "text": [
      "34343434343434343434343434343434343434343434343434343434343434343434343434343434343434343434343434343434343434343434343434343434343434343434343434343434343434343434343434343434343434343434343434343434\n"
     ]
    }
   ],
   "source": [
    "print('34' * 100)  # but multiplication does work. In the context of a string, the * sign repeats the string n times."
   ]
  },
  {
   "cell_type": "code",
   "execution_count": 13,
   "metadata": {},
   "outputs": [],
   "source": [
    "# Note: again, not all operators work with all datatypes. \n",
    "# Uncomment the line below to see what happens.\n",
    "# print('34' * '34')"
   ]
  },
  {
   "cell_type": "markdown",
   "metadata": {},
   "source": [
    "### 1.3. Booleans"
   ]
  },
  {
   "cell_type": "code",
   "execution_count": 14,
   "metadata": {},
   "outputs": [
    {
     "name": "stdout",
     "output_type": "stream",
     "text": [
      "3\n"
     ]
    }
   ],
   "source": [
    "# True implicitly converted to 1, False implicitly converted to 0.\n",
    "# same as: 1 + 1 + 0 + 0 + 1\n",
    "print(True + True + False + False + True)"
   ]
  },
  {
   "cell_type": "code",
   "execution_count": 15,
   "metadata": {},
   "outputs": [],
   "source": [
    "# Uncomment the line below to see what happens:\n",
    "# True / False  # you can't divide by zero!"
   ]
  },
  {
   "cell_type": "code",
   "execution_count": 16,
   "metadata": {},
   "outputs": [
    {
     "name": "stdout",
     "output_type": "stream",
     "text": [
      "0\n"
     ]
    }
   ],
   "source": [
    "print(True * False)"
   ]
  },
  {
   "cell_type": "code",
   "execution_count": 17,
   "metadata": {},
   "outputs": [
    {
     "name": "stdout",
     "output_type": "stream",
     "text": [
      "1\n"
     ]
    }
   ],
   "source": [
    "print(True * True)"
   ]
  },
  {
   "cell_type": "code",
   "execution_count": 18,
   "metadata": {},
   "outputs": [
    {
     "name": "stdout",
     "output_type": "stream",
     "text": [
      "200\n"
     ]
    }
   ],
   "source": [
    "# wierd: why is this 200?\n",
    "print((('aa' == 'aa') + ('bb' == 'bb')) * 100)\n",
    "\n",
    "# same as:\n",
    "#  (True + True) * 100\n",
    "#  (1 + 1) * 100\n",
    "#  (2) * 100\n",
    "#  200"
   ]
  },
  {
   "cell_type": "code",
   "execution_count": 19,
   "metadata": {},
   "outputs": [
    {
     "name": "stdout",
     "output_type": "stream",
     "text": [
      "0\n"
     ]
    }
   ],
   "source": [
    "# even wierder. Why is this 0? \n",
    "print(('aa' == 'aa' + 'bb' == 'bb') * 100) \n",
    "\n",
    "# Because addition gets evaluated before comparison operators (reviewed below)\n",
    "# same as: \n",
    "#  ('aa' == ('aa' + 'bb') == 'bb') * 100 \n",
    "#  ('aa' == 'aabb' == 'bb') * 100\n",
    "#  (False) * 100\n",
    "#  (0) * 100\n",
    "#  0"
   ]
  },
  {
   "cell_type": "markdown",
   "metadata": {},
   "source": [
    "## 2. Comparison Operators\n",
    "Comparison operators compare two operands according to a comparison rule and evaluate to either True or False (boolean). They always return a boolean value. They are useful for branching logic: if some condition is True, then do something. Otherwise, do something else. \n",
    "\n",
    "| Operator | Description |\n",
    "|--|--|\n",
    "| == | If the values of two operands are equal, then the condition becomes true. |\n",
    "| != | If values of two operands are not equal, then condition becomes true. |\n",
    "| > | If the value of left operand is greater than the value of right operand, then condition becomes true. |\n",
    "| < | If the value of left operand is less than the value of right operand, then condition becomes true. |\n",
    "| >= | If the value of left operand is greater than or equal to the value of right operand, then condition becomes true. |\n",
    "| <= | If the value of left operand is less than or equal to the value of right operand, then condition becomes true.|"
   ]
  },
  {
   "cell_type": "markdown",
   "metadata": {},
   "source": [
    "### 2.1. Numbers"
   ]
  },
  {
   "cell_type": "code",
   "execution_count": 20,
   "metadata": {},
   "outputs": [],
   "source": [
    "a = 10\n",
    "b = 20"
   ]
  },
  {
   "cell_type": "code",
   "execution_count": 21,
   "metadata": {},
   "outputs": [
    {
     "name": "stdout",
     "output_type": "stream",
     "text": [
      "False\n"
     ]
    }
   ],
   "source": [
    "print(a == b)"
   ]
  },
  {
   "cell_type": "code",
   "execution_count": 22,
   "metadata": {},
   "outputs": [
    {
     "name": "stdout",
     "output_type": "stream",
     "text": [
      "True\n"
     ]
    }
   ],
   "source": [
    "print(a != b)"
   ]
  },
  {
   "cell_type": "code",
   "execution_count": 23,
   "metadata": {},
   "outputs": [
    {
     "name": "stdout",
     "output_type": "stream",
     "text": [
      "False\n"
     ]
    }
   ],
   "source": [
    "print(a > b)"
   ]
  },
  {
   "cell_type": "code",
   "execution_count": 24,
   "metadata": {},
   "outputs": [
    {
     "name": "stdout",
     "output_type": "stream",
     "text": [
      "True\n"
     ]
    }
   ],
   "source": [
    "print(a < b)"
   ]
  },
  {
   "cell_type": "code",
   "execution_count": 25,
   "metadata": {},
   "outputs": [
    {
     "name": "stdout",
     "output_type": "stream",
     "text": [
      "False\n"
     ]
    }
   ],
   "source": [
    "print(a >= b)"
   ]
  },
  {
   "cell_type": "code",
   "execution_count": 26,
   "metadata": {},
   "outputs": [
    {
     "name": "stdout",
     "output_type": "stream",
     "text": [
      "True\n"
     ]
    }
   ],
   "source": [
    "print(a <= b)"
   ]
  },
  {
   "cell_type": "markdown",
   "metadata": {},
   "source": [
    "### 2.2. Strings\n",
    "You can use ( > , < , <= , <= , == , !=  ) to compare two strings. Python compares string lexicographically i.e using ASCII value of the characters.\n",
    "\n",
    "Suppose you have str1  as \"Mary\"  and str2  as \"Mac\" . The first two characters from str1  and str2 ( M  and M ) are compared. As they are equal, the second two characters are compared. Because they are also equal, the third two characters ( r  and c ) are compared. And because 'r'  has greater ASCII value than 'c' , str1  is greater than str2.\n",
    "\n",
    "**Source:** https://thepythonguru.com/python-strings/"
   ]
  },
  {
   "cell_type": "code",
   "execution_count": 27,
   "metadata": {},
   "outputs": [
    {
     "name": "stdout",
     "output_type": "stream",
     "text": [
      "False\n"
     ]
    }
   ],
   "source": [
    "# Even though Mary is longer than max, 'x' comes after 'r' in \n",
    "# ASCII and is therefore bigger. This makes sense if you're thinking\n",
    "# about sorting a list of names in alphabetical order (smallest to\n",
    "# largest). \n",
    "print('Mary' > 'Max')"
   ]
  },
  {
   "cell_type": "code",
   "execution_count": 28,
   "metadata": {},
   "outputs": [
    {
     "name": "stdout",
     "output_type": "stream",
     "text": [
      "True\n",
      "ASCII values for 'X' 88\n",
      "ASCII values for 'r' 114\n",
      "ASCII values for 'x' 120\n"
     ]
    }
   ],
   "source": [
    "# wierd: case matters! Capital 'X' comes before lowercase 'r' in ASCII\n",
    "# Note: ord() is a built-in Python function for getting the ASCII (numeric) \n",
    "# value of a character.\n",
    "print('Mary' > 'MaX')\n",
    "print('ASCII values for \\'X\\'', ord('X'))\n",
    "print('ASCII values for \\'r\\'', ord('r'))\n",
    "print('ASCII values for \\'x\\'', ord('x'))"
   ]
  },
  {
   "cell_type": "markdown",
   "metadata": {},
   "source": [
    "### 2.3 Booleans\n",
    "Like in the arithmetic operators examples, just act as if True is 1 and False is 0 and do comparisons just like numeric comparisons."
   ]
  },
  {
   "cell_type": "code",
   "execution_count": 29,
   "metadata": {},
   "outputs": [
    {
     "name": "stdout",
     "output_type": "stream",
     "text": [
      "True\n"
     ]
    }
   ],
   "source": [
    "print(True > False)"
   ]
  },
  {
   "cell_type": "code",
   "execution_count": 30,
   "metadata": {},
   "outputs": [
    {
     "name": "stdout",
     "output_type": "stream",
     "text": [
      "True\n"
     ]
    }
   ],
   "source": [
    "print(True == True)"
   ]
  },
  {
   "cell_type": "code",
   "execution_count": 31,
   "metadata": {},
   "outputs": [
    {
     "name": "stdout",
     "output_type": "stream",
     "text": [
      "False\n"
     ]
    }
   ],
   "source": [
    "print(True < False)"
   ]
  },
  {
   "cell_type": "markdown",
   "metadata": {},
   "source": [
    "## 3. Logical Operators\n",
    "Logical operators allow a program to make a decision based on multiple conditions. For example, consider a game controller with 2 buttons. If both buttons are pressed (both are True) then the Ninja does a jump kick. If only the left button is pressed, then the Ninja does a forward kick. If only the right button is pressed, the Ninja does a punch. Checking whether one or more things is True or False is a fundamental part of computer programming.\n",
    "\n",
    "| Operator | Description |\n",
    "|--|--|\n",
    "| and | if both operands are True then the expression evaluates to True. Otherwise, the expression evaluates to False |\n",
    "| or | If either or both operands are True then the expression evaluates to True. Otherwise, the expression evaluates to False |\n",
    "| not| If the operand is False than the expression evaluates to True (and vice versa) |\n",
    "\n",
    "### Truth Table\n",
    "The table below, which is called a *Truth Table*, shows what happens in a variety of different scenarios for `v1` and `v2`.\n",
    "\n",
    "| row num. | b1 | b2 | b1 and b2 | b1 or b2 | not b1 | not b2 | not (b1 and b2) | b1 and not b2 | b2 and not b1 |\n",
    "|--|--|--|--|--|--|--|--|--|--|\n",
    "| 1. | True | True | True | True | False| False | False | False | False |\n",
    "| 2. | True | False | False | True | False | True | True | True | False |\n",
    "| 3. | False | True | False | True | True | False | True | False | True |\n",
    "| 4. | False | False | False | False | True|  True | True | False | False |"
   ]
  },
  {
   "cell_type": "code",
   "execution_count": 41,
   "metadata": {},
   "outputs": [],
   "source": [
    "# let's walk through row #2, where b1 is True and b2 is False:\n",
    "b1 = True    # button 1 is pressed\n",
    "b2 = False   # button 2 is not pressed"
   ]
  },
  {
   "cell_type": "code",
   "execution_count": 42,
   "metadata": {},
   "outputs": [
    {
     "name": "stdout",
     "output_type": "stream",
     "text": [
      "False\n"
     ]
    }
   ],
   "source": [
    "print(b1 and b2)"
   ]
  },
  {
   "cell_type": "code",
   "execution_count": 43,
   "metadata": {},
   "outputs": [
    {
     "name": "stdout",
     "output_type": "stream",
     "text": [
      "True\n"
     ]
    }
   ],
   "source": [
    "print(b1 or b2)"
   ]
  },
  {
   "cell_type": "code",
   "execution_count": 44,
   "metadata": {},
   "outputs": [
    {
     "name": "stdout",
     "output_type": "stream",
     "text": [
      "False\n"
     ]
    }
   ],
   "source": [
    "print(not b1)"
   ]
  },
  {
   "cell_type": "code",
   "execution_count": 45,
   "metadata": {},
   "outputs": [
    {
     "name": "stdout",
     "output_type": "stream",
     "text": [
      "True\n"
     ]
    }
   ],
   "source": [
    "print(not b2)"
   ]
  },
  {
   "cell_type": "code",
   "execution_count": 46,
   "metadata": {},
   "outputs": [
    {
     "name": "stdout",
     "output_type": "stream",
     "text": [
      "True\n"
     ]
    }
   ],
   "source": [
    "print(not (b1 and b2))"
   ]
  },
  {
   "cell_type": "code",
   "execution_count": 47,
   "metadata": {},
   "outputs": [
    {
     "name": "stdout",
     "output_type": "stream",
     "text": [
      "True\n"
     ]
    }
   ],
   "source": [
    "print(b1 and not b2)"
   ]
  },
  {
   "cell_type": "code",
   "execution_count": 48,
   "metadata": {},
   "outputs": [
    {
     "name": "stdout",
     "output_type": "stream",
     "text": [
      "False\n"
     ]
    }
   ],
   "source": [
    "print(b2 and not b1)"
   ]
  },
  {
   "cell_type": "markdown",
   "metadata": {},
   "source": [
    "## 4. Assignment Operators\n",
    "Assignment operators are a way of saying: \"put the results of the expression stored in the right operand into the left operand.\" Unlike the three kinds of operators described above, assignment operators are meant to be used with variables.\n",
    "\n",
    "| Operator | Description |\n",
    "|--|--|\n",
    "| =\t| Assigns values from right side operands to left side operand |\n",
    "| += | It adds right operand to the left operand and assign the result to left operand |\n",
    "| -= | It subtracts right operand from the left operand and assign the result to left operand |\n",
    "| *= | It multiplies right operand with the left operand and assign the result to left operand |\n",
    "| /= | It divides left operand with the right operand and assign the result to left operand |"
   ]
  },
  {
   "cell_type": "markdown",
   "metadata": {},
   "source": [
    "### Examples of numbers, strings, and booleans"
   ]
  },
  {
   "cell_type": "code",
   "execution_count": 32,
   "metadata": {},
   "outputs": [],
   "source": [
    "# initialize variables for demo:\n",
    "a = 20\n",
    "b = 10\n",
    "c = 25"
   ]
  },
  {
   "cell_type": "code",
   "execution_count": 33,
   "metadata": {},
   "outputs": [
    {
     "name": "stdout",
     "output_type": "stream",
     "text": [
      "30\n"
     ]
    }
   ],
   "source": [
    "c = a + b  # assigns the value of a + b into c\n",
    "print(c)"
   ]
  },
  {
   "cell_type": "code",
   "execution_count": 34,
   "metadata": {},
   "outputs": [
    {
     "name": "stdout",
     "output_type": "stream",
     "text": [
      "50\n"
     ]
    }
   ],
   "source": [
    "c = c + a  # assigns the current value stored in 'c' and the value stored in 'a' to 'c' (c gets replaced)\n",
    "print(c)"
   ]
  },
  {
   "cell_type": "code",
   "execution_count": 35,
   "metadata": {},
   "outputs": [
    {
     "name": "stdout",
     "output_type": "stream",
     "text": [
      "70\n"
     ]
    }
   ],
   "source": [
    "c += a  #  equivalent to c = c + a\n",
    "print(c)"
   ]
  },
  {
   "cell_type": "code",
   "execution_count": 36,
   "metadata": {},
   "outputs": [
    {
     "name": "stdout",
     "output_type": "stream",
     "text": [
      "50\n"
     ]
    }
   ],
   "source": [
    "c -= a  # equivalent to c = c - a\n",
    "print(c)"
   ]
  },
  {
   "cell_type": "code",
   "execution_count": 37,
   "metadata": {},
   "outputs": [
    {
     "name": "stdout",
     "output_type": "stream",
     "text": [
      "1000\n"
     ]
    }
   ],
   "source": [
    "c *= a  # equivalent to c = c * a\n",
    "print(c)"
   ]
  },
  {
   "cell_type": "code",
   "execution_count": 38,
   "metadata": {},
   "outputs": [
    {
     "name": "stdout",
     "output_type": "stream",
     "text": [
      "50.0\n"
     ]
    }
   ],
   "source": [
    "c /= a  # equivalent to c = c / a\n",
    "print(c)"
   ]
  },
  {
   "cell_type": "code",
   "execution_count": 39,
   "metadata": {},
   "outputs": [],
   "source": [
    "\n",
    "bool1 = True\n",
    "bool2 = False"
   ]
  },
  {
   "cell_type": "code",
   "execution_count": 40,
   "metadata": {},
   "outputs": [
    {
     "name": "stdout",
     "output_type": "stream",
     "text": [
      "hello True123\n"
     ]
    }
   ],
   "source": [
    "str1 = 'hello '\n",
    "bool1 = True\n",
    "int1 = 123\n",
    "# str1 += bool1     # throws an error if you don't convert it to a string first\n",
    "# str1 += int1      # ditto: throws an error if you don't convert it to a string first\n",
    "str1 += str(bool1)\n",
    "str1 += str(int1)\n",
    "print(str1)"
   ]
  },
  {
   "cell_type": "code",
   "execution_count": 49,
   "metadata": {},
   "outputs": [
    {
     "data": {
      "text/html": [
       "<!-- some HTML styling. Ignore this cell -->\n",
       "<style>\n",
       "    .rendered_html td, .rendered_html th { text-align: left; }\n",
       "    .rendered_html table { max-width: 700px; }\n",
       "</style>"
      ],
      "text/plain": [
       "<IPython.core.display.HTML object>"
      ]
     },
     "metadata": {},
     "output_type": "display_data"
    }
   ],
   "source": [
    "%%html\n",
    "<!-- some HTML styling. Ignore this cell -->\n",
    "<style>\n",
    "    .rendered_html td, .rendered_html th { text-align: left; }\n",
    "    .rendered_html table { max-width: 700px; }\n",
    "</style>"
   ]
  }
 ],
 "metadata": {
  "kernelspec": {
   "display_name": "Python 3",
   "language": "python",
   "name": "python3"
  },
  "language_info": {
   "codemirror_mode": {
    "name": "ipython",
    "version": 3
   },
   "file_extension": ".py",
   "mimetype": "text/x-python",
   "name": "python",
   "nbconvert_exporter": "python",
   "pygments_lexer": "ipython3",
   "version": "3.7.0"
  }
 },
 "nbformat": 4,
 "nbformat_minor": 2
}
