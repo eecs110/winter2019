{
 "cells": [
  {
   "cell_type": "markdown",
   "metadata": {},
   "source": [
    "# OPERATORS\n",
    "Operators are special symbols in Python that carry out arithmetic or logical computation. The value that the operator operates on is called the operand (e.g. a, b, and c below). Operators do different things depending on the **data type** of the operand. In this section, we will go over four kinds of operators:\n",
    "\n",
    "1. [Comparison Operators](#Comparison-Operators)\n",
    "2. [Logical Operators](#Logical-Operators)"
   ]
  },
  {
   "cell_type": "markdown",
   "metadata": {},
   "source": [
    "## Booleans\n",
    "Booleans are either true or false, and are critical for the control flow of a program."
   ]
  },
  {
   "cell_type": "code",
   "execution_count": 2,
   "metadata": {},
   "outputs": [
    {
     "name": "stdout",
     "output_type": "stream",
     "text": [
      "3\n"
     ]
    }
   ],
   "source": [
    "# True implicitly converted to 1, False implicitly converted to 0.\n",
    "# same as: 1 + 1 + 0 + 0 + 1\n",
    "print(True + True + False + False + True)"
   ]
  },
  {
   "cell_type": "code",
   "execution_count": 3,
   "metadata": {},
   "outputs": [],
   "source": [
    "# Uncomment the line below to see what happens:\n",
    "# True / False  # you can't divide by zero!"
   ]
  },
  {
   "cell_type": "code",
   "execution_count": 4,
   "metadata": {},
   "outputs": [
    {
     "name": "stdout",
     "output_type": "stream",
     "text": [
      "0\n"
     ]
    }
   ],
   "source": [
    "print(True * False)"
   ]
  },
  {
   "cell_type": "code",
   "execution_count": 5,
   "metadata": {},
   "outputs": [
    {
     "name": "stdout",
     "output_type": "stream",
     "text": [
      "1\n"
     ]
    }
   ],
   "source": [
    "print(True * True)"
   ]
  },
  {
   "cell_type": "code",
   "execution_count": 6,
   "metadata": {},
   "outputs": [
    {
     "name": "stdout",
     "output_type": "stream",
     "text": [
      "200\n"
     ]
    }
   ],
   "source": [
    "# wierd: why is this 200?\n",
    "print((('aa' == 'aa') + ('bb' == 'bb')) * 100)\n",
    "\n",
    "# same as:\n",
    "#  (True + True) * 100\n",
    "#  (1 + 1) * 100\n",
    "#  (2) * 100\n",
    "#  200"
   ]
  },
  {
   "cell_type": "code",
   "execution_count": 7,
   "metadata": {},
   "outputs": [
    {
     "name": "stdout",
     "output_type": "stream",
     "text": [
      "0\n"
     ]
    }
   ],
   "source": [
    "# even wierder. Why is this 0? \n",
    "print(('aa' == 'aa' + 'bb' == 'bb') * 100) \n",
    "\n",
    "# Because addition gets evaluated before comparison operators (reviewed below)\n",
    "# same as: \n",
    "#  ('aa' == ('aa' + 'bb') == 'bb') * 100 \n",
    "#  ('aa' == 'aabb' == 'bb') * 100\n",
    "#  (False) * 100\n",
    "#  (0) * 100\n",
    "#  0"
   ]
  },
  {
   "cell_type": "markdown",
   "metadata": {},
   "source": [
    "## Comparison Operators\n",
    "Comparison operators compare two operands according to a comparison rule and evaluate to either True or False (boolean). They always return a boolean value. They are useful for branching logic: if some condition is True, then do something. Otherwise, do something else. \n",
    "\n",
    "| Operator | Description |\n",
    "|--|--|\n",
    "| == | If the values of two operands are equal, then the condition becomes true. |\n",
    "| != | If values of two operands are not equal, then condition becomes true. |\n",
    "| > | If the value of left operand is greater than the value of right operand, then condition becomes true. |\n",
    "| < | If the value of left operand is less than the value of right operand, then condition becomes true. |\n",
    "| >= | If the value of left operand is greater than or equal to the value of right operand, then condition becomes true. |\n",
    "| <= | If the value of left operand is less than or equal to the value of right operand, then condition becomes true.|"
   ]
  },
  {
   "cell_type": "markdown",
   "metadata": {},
   "source": [
    "### Numbers"
   ]
  },
  {
   "cell_type": "code",
   "execution_count": 20,
   "metadata": {},
   "outputs": [],
   "source": [
    "a = 10\n",
    "b = 20"
   ]
  },
  {
   "cell_type": "code",
   "execution_count": 21,
   "metadata": {},
   "outputs": [
    {
     "name": "stdout",
     "output_type": "stream",
     "text": [
      "False\n"
     ]
    }
   ],
   "source": [
    "print(a == b)"
   ]
  },
  {
   "cell_type": "code",
   "execution_count": 22,
   "metadata": {},
   "outputs": [
    {
     "name": "stdout",
     "output_type": "stream",
     "text": [
      "True\n"
     ]
    }
   ],
   "source": [
    "print(a != b)"
   ]
  },
  {
   "cell_type": "code",
   "execution_count": 23,
   "metadata": {},
   "outputs": [
    {
     "name": "stdout",
     "output_type": "stream",
     "text": [
      "False\n"
     ]
    }
   ],
   "source": [
    "print(a > b)"
   ]
  },
  {
   "cell_type": "code",
   "execution_count": 24,
   "metadata": {},
   "outputs": [
    {
     "name": "stdout",
     "output_type": "stream",
     "text": [
      "True\n"
     ]
    }
   ],
   "source": [
    "print(a < b)"
   ]
  },
  {
   "cell_type": "code",
   "execution_count": 25,
   "metadata": {},
   "outputs": [
    {
     "name": "stdout",
     "output_type": "stream",
     "text": [
      "False\n"
     ]
    }
   ],
   "source": [
    "print(a >= b)"
   ]
  },
  {
   "cell_type": "code",
   "execution_count": 26,
   "metadata": {},
   "outputs": [
    {
     "name": "stdout",
     "output_type": "stream",
     "text": [
      "True\n"
     ]
    }
   ],
   "source": [
    "print(a <= b)"
   ]
  },
  {
   "cell_type": "markdown",
   "metadata": {},
   "source": [
    "### Strings\n",
    "You can use ( > , < , <= , <= , == , !=  ) to compare two strings. Python compares string lexicographically i.e using ASCII value of the characters.\n",
    "\n",
    "Suppose you have str1  as \"Mary\"  and str2  as \"Mac\" . The first two characters from str1  and str2 ( M  and M ) are compared. As they are equal, the second two characters are compared. Because they are also equal, the third two characters ( r  and c ) are compared. And because 'r'  has greater ASCII value than 'c' , str1  is greater than str2.\n",
    "\n",
    "**Source:** https://thepythonguru.com/python-strings/"
   ]
  },
  {
   "cell_type": "code",
   "execution_count": 27,
   "metadata": {},
   "outputs": [
    {
     "name": "stdout",
     "output_type": "stream",
     "text": [
      "False\n"
     ]
    }
   ],
   "source": [
    "# Even though Mary is longer than max, 'x' comes after 'r' in \n",
    "# ASCII and is therefore bigger. This makes sense if you're thinking\n",
    "# about sorting a list of names in alphabetical order (smallest to\n",
    "# largest). \n",
    "print('Mary' > 'Max')"
   ]
  },
  {
   "cell_type": "code",
   "execution_count": 28,
   "metadata": {},
   "outputs": [
    {
     "name": "stdout",
     "output_type": "stream",
     "text": [
      "True\n",
      "ASCII values for 'X' 88\n",
      "ASCII values for 'r' 114\n",
      "ASCII values for 'x' 120\n"
     ]
    }
   ],
   "source": [
    "# wierd: case matters! Capital 'X' comes before lowercase 'r' in ASCII\n",
    "# Note: ord() is a built-in Python function for getting the ASCII (numeric) \n",
    "# value of a character.\n",
    "print('Mary' > 'MaX')\n",
    "print('ASCII values for \\'X\\'', ord('X'))\n",
    "print('ASCII values for \\'r\\'', ord('r'))\n",
    "print('ASCII values for \\'x\\'', ord('x'))"
   ]
  },
  {
   "cell_type": "markdown",
   "metadata": {},
   "source": [
    "### Booleans\n",
    "Like in the arithmetic operators examples, just act as if True is 1 and False is 0 and do comparisons just like numeric comparisons."
   ]
  },
  {
   "cell_type": "code",
   "execution_count": 29,
   "metadata": {},
   "outputs": [
    {
     "name": "stdout",
     "output_type": "stream",
     "text": [
      "True\n"
     ]
    }
   ],
   "source": [
    "print(True > False)"
   ]
  },
  {
   "cell_type": "code",
   "execution_count": 30,
   "metadata": {},
   "outputs": [
    {
     "name": "stdout",
     "output_type": "stream",
     "text": [
      "True\n"
     ]
    }
   ],
   "source": [
    "print(True == True)"
   ]
  },
  {
   "cell_type": "code",
   "execution_count": 31,
   "metadata": {},
   "outputs": [
    {
     "name": "stdout",
     "output_type": "stream",
     "text": [
      "False\n"
     ]
    }
   ],
   "source": [
    "print(True < False)"
   ]
  },
  {
   "cell_type": "markdown",
   "metadata": {},
   "source": [
    "## Logical Operators\n",
    "Logical operators allow a program to make a decision based on multiple conditions. For example, consider a game controller with 2 buttons. If both buttons are pressed (both are True) then the Ninja does a jump kick. If only the left button is pressed, then the Ninja does a forward kick. If only the right button is pressed, the Ninja does a punch. Checking whether one or more things is True or False is a fundamental part of computer programming.\n",
    "\n",
    "| Operator | Description |\n",
    "|--|--|\n",
    "| and | if both operands are True then the expression evaluates to True. Otherwise, the expression evaluates to False |\n",
    "| or | If either or both operands are True then the expression evaluates to True. Otherwise, the expression evaluates to False |\n",
    "| not| If the operand is False than the expression evaluates to True (and vice versa) |\n",
    "\n",
    "### Truth Table\n",
    "The table below, which is called a *Truth Table*, shows what happens in a variety of different scenarios for `v1` and `v2`.\n",
    "\n",
    "| row num. | b1 | b2 | b1 and b2 | b1 or b2 | not b1 | not b2 | not (b1 and b2) | b1 and not b2 | b2 and not b1 |\n",
    "|--|--|--|--|--|--|--|--|--|--|\n",
    "| 1. | True | True | True | True | False| False | False | False | False |\n",
    "| 2. | True | False | False | True | False | True | True | True | False |\n",
    "| 3. | False | True | False | True | True | False | True | False | True |\n",
    "| 4. | False | False | False | False | True|  True | True | False | False |"
   ]
  },
  {
   "cell_type": "code",
   "execution_count": 41,
   "metadata": {},
   "outputs": [],
   "source": [
    "# let's walk through row #2, where b1 is True and b2 is False:\n",
    "b1 = True    # button 1 is pressed\n",
    "b2 = False   # button 2 is not pressed"
   ]
  },
  {
   "cell_type": "code",
   "execution_count": 42,
   "metadata": {},
   "outputs": [
    {
     "name": "stdout",
     "output_type": "stream",
     "text": [
      "False\n"
     ]
    }
   ],
   "source": [
    "print(b1 and b2)"
   ]
  },
  {
   "cell_type": "code",
   "execution_count": 43,
   "metadata": {},
   "outputs": [
    {
     "name": "stdout",
     "output_type": "stream",
     "text": [
      "True\n"
     ]
    }
   ],
   "source": [
    "print(b1 or b2)"
   ]
  },
  {
   "cell_type": "code",
   "execution_count": 44,
   "metadata": {},
   "outputs": [
    {
     "name": "stdout",
     "output_type": "stream",
     "text": [
      "False\n"
     ]
    }
   ],
   "source": [
    "print(not b1)"
   ]
  },
  {
   "cell_type": "code",
   "execution_count": 45,
   "metadata": {},
   "outputs": [
    {
     "name": "stdout",
     "output_type": "stream",
     "text": [
      "True\n"
     ]
    }
   ],
   "source": [
    "print(not b2)"
   ]
  },
  {
   "cell_type": "code",
   "execution_count": 46,
   "metadata": {},
   "outputs": [
    {
     "name": "stdout",
     "output_type": "stream",
     "text": [
      "True\n"
     ]
    }
   ],
   "source": [
    "print(not (b1 and b2))"
   ]
  },
  {
   "cell_type": "code",
   "execution_count": 47,
   "metadata": {},
   "outputs": [
    {
     "name": "stdout",
     "output_type": "stream",
     "text": [
      "True\n"
     ]
    }
   ],
   "source": [
    "print(b1 and not b2)"
   ]
  },
  {
   "cell_type": "code",
   "execution_count": 48,
   "metadata": {},
   "outputs": [
    {
     "name": "stdout",
     "output_type": "stream",
     "text": [
      "False\n"
     ]
    }
   ],
   "source": [
    "print(b2 and not b1)"
   ]
  },
  {
   "cell_type": "code",
   "execution_count": 1,
   "metadata": {},
   "outputs": [
    {
     "data": {
      "text/html": [
       "<!-- some HTML styling. Ignore this cell -->\n",
       "<style>\n",
       "    .rendered_html td, .rendered_html th { text-align: left; }\n",
       "    .rendered_html table { max-width: 700px; }\n",
       "</style>"
      ],
      "text/plain": [
       "<IPython.core.display.HTML object>"
      ]
     },
     "metadata": {},
     "output_type": "display_data"
    }
   ],
   "source": [
    "%%html\n",
    "<!-- some HTML styling. Ignore this cell -->\n",
    "<style>\n",
    "    .rendered_html td, .rendered_html th { text-align: left; }\n",
    "    .rendered_html table { max-width: 700px; }\n",
    "</style>"
   ]
  },
  {
   "cell_type": "code",
   "execution_count": null,
   "metadata": {},
   "outputs": [],
   "source": []
  }
 ],
 "metadata": {
  "kernelspec": {
   "display_name": "Python 3",
   "language": "python",
   "name": "python3"
  },
  "language_info": {
   "codemirror_mode": {
    "name": "ipython",
    "version": 3
   },
   "file_extension": ".py",
   "mimetype": "text/x-python",
   "name": "python",
   "nbconvert_exporter": "python",
   "pygments_lexer": "ipython3",
   "version": "3.7.0"
  }
 },
 "nbformat": 4,
 "nbformat_minor": 2
}
