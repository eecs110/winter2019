{
 "cells": [
  {
   "cell_type": "markdown",
   "metadata": {},
   "source": [
    "# PART 2. CREATING, UPDATING, AND DELETING DATA\n",
    "\n",
    "## Table of Contents\n",
    "1. [Create database structure](#I.-Create-Database-Structure)\n",
    "2. [Insert data](#II.-Insert-Data-to-Database)\n",
    "3. [Verify that everything worked](#III.-Verify-that-rows-created-successfully)\n",
    "4. [Practice updating and deleting data](#IV.-Practice-Updating-and-Deleting-Data)\n"
   ]
  },
  {
   "cell_type": "markdown",
   "metadata": {},
   "source": [
    "## I. Create Database Structure\n",
    "### 1. Create a database\n",
    "If the database exists, then connect to it, otherwise create it."
   ]
  },
  {
   "cell_type": "code",
   "execution_count": 18,
   "metadata": {},
   "outputs": [],
   "source": [
    "# use the sqlite3 library\n",
    "import sqlite3\n",
    "\n",
    "# if the database doesn't exist, it will be created:\n",
    "conn = sqlite3.connect('../databases/my_music.db')"
   ]
  },
  {
   "cell_type": "markdown",
   "metadata": {},
   "source": [
    "### 2. Create empty tables\n",
    "In this section, we will be building 4 tables:\n",
    "1. Artist\n",
    "2. Album\n",
    "3. Genre\n",
    "4. Track\n",
    "\n",
    "The cell below creates the structure of the tables, and defines the rules for the data, including (a) the names of each column, (b) their datatypes, and (c) whether or not data for each column is optional or required."
   ]
  },
  {
   "cell_type": "code",
   "execution_count": 19,
   "metadata": {},
   "outputs": [],
   "source": [
    "cur = conn.cursor()\n",
    "\n",
    "\n",
    "cur.execute('''\n",
    "CREATE TABLE IF NOT EXISTS \"Artist\" (\n",
    "    \"id\" INTEGER PRIMARY KEY AUTOINCREMENT NOT NULL UNIQUE, \n",
    "    \"name\" TEXT)\n",
    "''')\n",
    "\n",
    "cur.execute('''\n",
    "CREATE TABLE IF NOT EXISTS \"Album\" (\n",
    "    \"id\" INTEGER PRIMARY KEY AUTOINCREMENT NOT NULL UNIQUE, \n",
    "    artist_id INTEGER,\n",
    "    \"title\" TEXT)\n",
    "''')\n",
    "\n",
    "cur.execute('''\n",
    "CREATE TABLE IF NOT EXISTS \"Genre\" (\n",
    "    \"id\" INTEGER PRIMARY KEY AUTOINCREMENT NOT NULL UNIQUE, \n",
    "    \"name\" TEXT)\n",
    "''')\n",
    "\n",
    "cur.execute('''\n",
    "CREATE TABLE IF NOT EXISTS \"Track\" (\n",
    "    \"id\" INTEGER PRIMARY KEY AUTOINCREMENT NOT NULL UNIQUE, \n",
    "    album_id INTEGER, \n",
    "    genre_id INTEGER, \n",
    "    len INTEGER, \n",
    "    rating INTEGER, \n",
    "    \"title\" TEXT, \n",
    "    \"count\" INTEGER)\n",
    "''')\n",
    "\n",
    "cur.close()"
   ]
  },
  {
   "cell_type": "markdown",
   "metadata": {},
   "source": [
    "### 3. Verify that tables have been created\n",
    "```sql\n",
    "SELECT name \n",
    "FROM sqlite_master \n",
    "WHERE type='table';\n",
    "```"
   ]
  },
  {
   "cell_type": "code",
   "execution_count": 20,
   "metadata": {},
   "outputs": [
    {
     "name": "stdout",
     "output_type": "stream",
     "text": [
      "[('Artist',), ('sqlite_sequence',), ('Album',), ('Genre',), ('Track',)]\n"
     ]
    }
   ],
   "source": [
    "cur = conn.cursor()\n",
    "cur.execute(\"SELECT name FROM sqlite_master WHERE type='table';\")\n",
    "results = cur.fetchall()\n",
    "print(results)"
   ]
  },
  {
   "cell_type": "markdown",
   "metadata": {},
   "source": [
    "### 4. Verify that columns have been created\n",
    "```sql\n",
    "pragma table_info(<table_name>);\n",
    "```"
   ]
  },
  {
   "cell_type": "code",
   "execution_count": 21,
   "metadata": {},
   "outputs": [
    {
     "name": "stdout",
     "output_type": "stream",
     "text": [
      "\n",
      "\n",
      "Artist\n",
      "-----------------------------------\n",
      "id (INTEGER)\n",
      "name (TEXT)\n",
      "\n",
      "\n",
      "Album\n",
      "-----------------------------------\n",
      "id (INTEGER)\n",
      "artist_id (INTEGER)\n",
      "title (TEXT)\n",
      "\n",
      "\n",
      "Genre\n",
      "-----------------------------------\n",
      "id (INTEGER)\n",
      "name (TEXT)\n",
      "\n",
      "\n",
      "Track\n",
      "-----------------------------------\n",
      "id (INTEGER)\n",
      "album_id (INTEGER)\n",
      "genre_id (INTEGER)\n",
      "len (INTEGER)\n",
      "rating (INTEGER)\n",
      "title (TEXT)\n",
      "count (INTEGER)\n"
     ]
    }
   ],
   "source": [
    "tables = ['Artist', 'Album', 'Genre', 'Track']\n",
    "cur = conn.cursor()\n",
    "for table in tables:\n",
    "    cur.execute(\"pragma table_info({0});\".format(table))\n",
    "    results = cur.fetchall()\n",
    "    # add a little formatting to make things easier to read:\n",
    "    print('\\n')\n",
    "    print(table)\n",
    "    print('-' * 35)\n",
    "    for row in results:\n",
    "        print(row[1] + ' (' +  row[2] + ')')"
   ]
  },
  {
   "cell_type": "markdown",
   "metadata": {},
   "source": [
    "## II. Insert Data to Database\n",
    "In this section, we will insert data in to each of the 4 tables (Artist, Genre, Album, Track) using the following syntax:\n",
    "```sql\n",
    "INSERT INTO <TABLE_NAME> (<COL_1>, <COL_2>, ...)\n",
    "    VALUES (<VAL_1>, <VAL_2>);\n",
    "```\n",
    "\n",
    "**IMPORTANT**: Once you execute all of your statements, don't forget to commit your data (which is like a database's \"save\" button), or else your data will be lost after you close your Jupyter notebook."
   ]
  },
  {
   "cell_type": "code",
   "execution_count": 22,
   "metadata": {},
   "outputs": [],
   "source": [
    "cur = conn.cursor()\n",
    "\n",
    "# 1. Insert into Artist table:\n",
    "cur.execute(\n",
    "    'INSERT INTO Artist (name) VALUES (?);',\n",
    "    ('Led Zepplin',)\n",
    ")\n",
    "cur.execute(\n",
    "    'INSERT INTO Artist (name) VALUES (?);', \n",
    "    ('AC/DC',)\n",
    ")\n",
    "\n",
    "# 2. Insert into Genre table:\n",
    "cur.execute(\n",
    "    'INSERT INTO Genre (name) VALUES (?);', \n",
    "    ('Rock',)\n",
    ")\n",
    "cur.execute(\n",
    "    'INSERT INTO Genre (name) VALUES (?);', \n",
    "    ('Metal',)\n",
    ")\n",
    "\n",
    "# 3. Insert into Album table:\n",
    "cur.execute(\n",
    "    'INSERT INTO Album (title, artist_id) VALUES (?, ?);',\n",
    "    ('Who Made Who', 2)\n",
    ")\n",
    "cur.execute(\n",
    "    'INSERT INTO Album (title, artist_id) VALUES (?, ?);',\n",
    "    ('IV', 1)\n",
    ")\n",
    "\n",
    "# 4. Insert into Track table:\n",
    "cur.execute(\n",
    "    ''' INSERT INTO Track (title, rating, len, count, album_id, genre_id)\n",
    "        VALUES (?, ?, ?, ?, ?, ?);\n",
    "    ''',\n",
    "   ('Black Dog', 5, 297, 0, 2, 1)\n",
    ") \n",
    "cur.execute(\n",
    "    ''' INSERT INTO Track (title, rating, len, count, album_id, genre_id)\n",
    "        VALUES (?, ?, ?, ?, ?, ?);\n",
    "    ''',\n",
    "    ('Stairway', 5, 482, 0, 2, 1)\n",
    ")  \n",
    "cur.execute(\n",
    "    ''' INSERT INTO Track (title, rating, len, count, album_id, genre_id)\n",
    "        VALUES (?, ?, ?, ?, ?, ?);\n",
    "    ''',\n",
    "    ('About to Rock', 5, 313, 0, 1, 2)\n",
    ") \n",
    "cur.execute(\n",
    "    ''' INSERT INTO Track (title, rating, len, count, album_id, genre_id)\n",
    "        VALUES (?, ?, ?, ?, ?, ?);\n",
    "    ''',\n",
    "    ('Who Made Who', 5, 207, 0, 1, 2)\n",
    ") \n",
    "\n",
    "cur.close()\n",
    "\n",
    "# DON'T FORGET TO COMMIT OR YOUR DATA WON'T BE SAVED!!!\n",
    "conn.commit()"
   ]
  },
  {
   "cell_type": "markdown",
   "metadata": {},
   "source": [
    "## III. Verify that rows created successfully\n",
    "Once you're done inserting your data into the database (and have committed it), check to make sure it's in there by querying each table and printing the results to the screen."
   ]
  },
  {
   "cell_type": "markdown",
   "metadata": {},
   "source": [
    "### 1. Select all rows in Artist table\n",
    "```sql\n",
    "SELECT * FROM Artist\n",
    "```"
   ]
  },
  {
   "cell_type": "code",
   "execution_count": 23,
   "metadata": {},
   "outputs": [
    {
     "name": "stdout",
     "output_type": "stream",
     "text": [
      "(1, 'Led Zepplin')\n",
      "(2, 'AC/DC!!')\n",
      "(3, 'Led Zepplin')\n",
      "(4, 'AC/DC')\n",
      "(5, 'Led Zepplin')\n",
      "(6, 'AC/DC')\n",
      "(7, 'Led Zepplin')\n",
      "(8, 'AC/DC')\n",
      "(9, 'Led Zepplin')\n",
      "(10, 'AC/DC')\n",
      "(11, 'Led Zepplin')\n",
      "(12, 'AC/DC')\n",
      "(13, 'Led Zepplin')\n",
      "(14, 'AC/DC')\n",
      "(15, 'Led Zepplin')\n",
      "(16, 'AC/DC')\n",
      "(17, 'Led Zepplin')\n",
      "(18, 'AC/DC')\n",
      "(19, 'Led Zepplin')\n",
      "(20, 'AC/DC')\n",
      "(21, 'Led Zepplin')\n",
      "(22, 'AC/DC')\n",
      "(23, 'Led Zepplin')\n",
      "(24, 'AC/DC')\n",
      "(25, 'Led Zepplin')\n",
      "(26, 'AC/DC')\n"
     ]
    }
   ],
   "source": [
    "cur = conn.cursor()\n",
    "cur.execute(\"SELECT * FROM Artist;\")\n",
    "results = cur.fetchall()\n",
    "cur.close()\n",
    "\n",
    "for row in results:\n",
    "    print(row)"
   ]
  },
  {
   "cell_type": "markdown",
   "metadata": {},
   "source": [
    "### 2. Select all rows in Genre table\n",
    "```sql\n",
    "SELECT * FROM Genre\n",
    "```"
   ]
  },
  {
   "cell_type": "code",
   "execution_count": 24,
   "metadata": {},
   "outputs": [
    {
     "name": "stdout",
     "output_type": "stream",
     "text": [
      "(1, 'Rock')\n",
      "(2, 'Metal')\n",
      "(3, 'Rock')\n",
      "(4, 'Metal')\n",
      "(5, 'Rock')\n",
      "(6, 'Metal')\n",
      "(7, 'Rock')\n",
      "(8, 'Metal')\n",
      "(9, 'Rock')\n",
      "(10, 'Metal')\n",
      "(11, 'Rock')\n",
      "(12, 'Metal')\n",
      "(13, 'Rock')\n",
      "(14, 'Metal')\n",
      "(15, 'Rock')\n",
      "(16, 'Metal')\n",
      "(17, 'Rock')\n",
      "(18, 'Metal')\n",
      "(19, 'Rock')\n",
      "(20, 'Metal')\n",
      "(21, 'Rock')\n",
      "(22, 'Metal')\n",
      "(23, 'Rock')\n",
      "(24, 'Metal')\n",
      "(25, 'Rock')\n",
      "(26, 'Metal')\n"
     ]
    }
   ],
   "source": [
    "cur = conn.cursor()\n",
    "cur.execute(\"SELECT * FROM Genre;\")\n",
    "results = cur.fetchall()\n",
    "cur.close()\n",
    "\n",
    "for row in results:\n",
    "    print(row)"
   ]
  },
  {
   "cell_type": "markdown",
   "metadata": {},
   "source": [
    "### 3. Select all rows in Album table\n",
    "```sql\n",
    "SELECT * FROM Album\n",
    "```"
   ]
  },
  {
   "cell_type": "code",
   "execution_count": 25,
   "metadata": {},
   "outputs": [
    {
     "name": "stdout",
     "output_type": "stream",
     "text": [
      "(1, 2, 'Who Made Who')\n",
      "(2, 1, 'IV')\n",
      "(3, 2, 'Who Made Who')\n",
      "(4, 1, 'IV')\n",
      "(5, 2, 'Who Made Who')\n",
      "(6, 1, 'IV')\n",
      "(7, 2, 'Who Made Who')\n",
      "(8, 1, 'IV')\n",
      "(9, 2, 'Who Made Who')\n",
      "(10, 1, 'IV')\n",
      "(11, 2, 'Who Made Who')\n",
      "(12, 1, 'IV')\n",
      "(13, 2, 'Who Made Who')\n",
      "(14, 1, 'IV')\n",
      "(15, 2, 'Who Made Who')\n",
      "(16, 1, 'IV')\n",
      "(17, 2, 'Who Made Who')\n",
      "(18, 1, 'IV')\n",
      "(19, 2, 'Who Made Who')\n",
      "(20, 1, 'IV')\n",
      "(21, 2, 'Who Made Who')\n",
      "(22, 1, 'IV')\n",
      "(23, 2, 'Who Made Who')\n",
      "(24, 1, 'IV')\n",
      "(25, 2, 'Who Made Who')\n",
      "(26, 1, 'IV')\n"
     ]
    }
   ],
   "source": [
    "cur = conn.cursor()\n",
    "cur.execute(\"SELECT * FROM Album;\")\n",
    "results = cur.fetchall()\n",
    "cur.close()\n",
    "\n",
    "for row in results:\n",
    "    print(row)"
   ]
  },
  {
   "cell_type": "markdown",
   "metadata": {},
   "source": [
    "### 4. Select all rows in Track table\n",
    "Here, we will select data from each table\n",
    "\n",
    "```sql\n",
    "SELECT * FROM Track\n",
    "```"
   ]
  },
  {
   "cell_type": "code",
   "execution_count": 26,
   "metadata": {},
   "outputs": [
    {
     "name": "stdout",
     "output_type": "stream",
     "text": [
      "(49, 2, 1, 297, 5, 'Black Dog', 0)\n",
      "(50, 2, 1, 482, 5, 'Stairway', 0)\n",
      "(51, 1, 2, 313, 5, 'About to Rock', 0)\n",
      "(52, 1, 2, 207, 5, 'Who Made Who', 0)\n"
     ]
    }
   ],
   "source": [
    "cur = conn.cursor()\n",
    "cur.execute(\"SELECT * FROM Track;\")\n",
    "results = cur.fetchall()\n",
    "cur.close()\n",
    "\n",
    "for row in results:\n",
    "    print(row)"
   ]
  },
  {
   "cell_type": "markdown",
   "metadata": {},
   "source": [
    "## IV. Practice Updating and Deleting Data\n",
    "Once you've added some data, you can also update and delete data. "
   ]
  },
  {
   "cell_type": "markdown",
   "metadata": {},
   "source": [
    "### 1. Deleting Records\n",
    "Let's practice by deleting all of the records in the Track table:\n",
    "```sql \n",
    "DELETE FROM Track;\n",
    "```"
   ]
  },
  {
   "cell_type": "code",
   "execution_count": 13,
   "metadata": {},
   "outputs": [],
   "source": [
    "cur = conn.cursor()\n",
    "cur.execute(\"DELETE FROM Track;\")\n",
    "cur.close()\n",
    "\n",
    "# DON'T FORGET TO COMMIT OR YOUR DATA WON'T BE SAVED!!!\n",
    "conn.commit()"
   ]
  },
  {
   "cell_type": "markdown",
   "metadata": {},
   "source": [
    "Verify that Track table is now empty:\n",
    "\n",
    "```sql\n",
    "SELECT * FROM Track\n",
    "```"
   ]
  },
  {
   "cell_type": "code",
   "execution_count": 14,
   "metadata": {},
   "outputs": [
    {
     "name": "stdout",
     "output_type": "stream",
     "text": [
      "There should be now 0 records in the Track table: []\n"
     ]
    }
   ],
   "source": [
    "cur = conn.cursor()\n",
    "cur.execute(\"SELECT * FROM Track;\")\n",
    "results = cur.fetchall()\n",
    "cur.close()\n",
    "\n",
    "print('There should be now 0 records in the Track table:', results)"
   ]
  },
  {
   "cell_type": "markdown",
   "metadata": {},
   "source": [
    "### 2. Updating Records\n",
    "You can also update existing data in your database as follows:\n",
    "```sql\n",
    "UPDATE Artist \n",
    "    SET name=\"AC/DC!!!!!!\" \n",
    "    WHERE id=2;\n",
    "```"
   ]
  },
  {
   "cell_type": "code",
   "execution_count": 15,
   "metadata": {},
   "outputs": [],
   "source": [
    "cur = conn.cursor()\n",
    "cur.execute(\"UPDATE Artist SET name='AC/DC!!' WHERE id=2;\")\n",
    "cur.close()\n",
    "\n",
    "# DON'T FORGET TO COMMIT OR YOUR DATA WON'T BE SAVED!!!\n",
    "conn.commit()"
   ]
  },
  {
   "cell_type": "markdown",
   "metadata": {},
   "source": [
    "Let's verify that the Artist table has been updated:\n",
    "\n",
    "```sql\n",
    "SELECT * from Artist;\n",
    "```"
   ]
  },
  {
   "cell_type": "code",
   "execution_count": 16,
   "metadata": {
    "scrolled": true
   },
   "outputs": [
    {
     "name": "stdout",
     "output_type": "stream",
     "text": [
      "1 Led Zepplin\n",
      "2 AC/DC!!\n",
      "3 Led Zepplin\n",
      "4 AC/DC\n",
      "5 Led Zepplin\n",
      "6 AC/DC\n",
      "7 Led Zepplin\n",
      "8 AC/DC\n",
      "9 Led Zepplin\n",
      "10 AC/DC\n",
      "11 Led Zepplin\n",
      "12 AC/DC\n",
      "13 Led Zepplin\n",
      "14 AC/DC\n",
      "15 Led Zepplin\n",
      "16 AC/DC\n",
      "17 Led Zepplin\n",
      "18 AC/DC\n",
      "19 Led Zepplin\n",
      "20 AC/DC\n",
      "21 Led Zepplin\n",
      "22 AC/DC\n",
      "23 Led Zepplin\n",
      "24 AC/DC\n"
     ]
    }
   ],
   "source": [
    "cur = conn.cursor()\n",
    "cur.execute(\"SELECT * FROM Artist;\")\n",
    "results = cur.fetchall()\n",
    "cur.close()\n",
    "\n",
    "for row in results:\n",
    "    print(row[0], row[1])"
   ]
  },
  {
   "cell_type": "code",
   "execution_count": 17,
   "metadata": {},
   "outputs": [],
   "source": [
    "# finally, close the database connection:\n",
    "conn.close()"
   ]
  },
  {
   "cell_type": "code",
   "execution_count": null,
   "metadata": {},
   "outputs": [],
   "source": []
  }
 ],
 "metadata": {
  "kernelspec": {
   "display_name": "Python 3",
   "language": "python",
   "name": "python3"
  },
  "language_info": {
   "codemirror_mode": {
    "name": "ipython",
    "version": 3
   },
   "file_extension": ".py",
   "mimetype": "text/x-python",
   "name": "python",
   "nbconvert_exporter": "python",
   "pygments_lexer": "ipython3",
   "version": "3.7.0"
  }
 },
 "nbformat": 4,
 "nbformat_minor": 2
}
