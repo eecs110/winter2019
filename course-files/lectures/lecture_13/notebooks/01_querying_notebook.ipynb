{
 "cells": [
  {
   "cell_type": "markdown",
   "metadata": {},
   "source": [
    "# PART 1. QUERYING DATA\n",
    "Taken from this tutorial: https://www.dataquest.io/blog/python-pandas-databases/\n",
    "\n",
    "## Table of Contents\n",
    "### Getting Oriented with the Database\n",
    "1. [What tables does my database have?](#1.-What-tables-does-my-database-have?)\n",
    "2. [What columns does my table have?](#2.-What-columns-does-my-table-have?)\n",
    "\n",
    "### Querying\n",
    "1. [Retrieve data from **all** columns](#1.-Select-All-Columns,-Display-the-First-15-Rows)\n",
    "2. [Retrieve data from **some** columns](#2.-Select-Some-Columns,-Display-the-First-15-Rows)\n",
    "3. [Filter data by 1 condition](#3.-Select-Some-Columns,-Filter-by-a-Single-Condition)\n",
    "4. [Filter data by multiple conditions (AND)](#4.-Select-Some-Columns,-Filter-by-Two-Condition-(AND))\n",
    "5. [Filter data by multiple conditions (OR)](#5.-Select-Some-Columns,-Filter-by-Two-Condition-(OR))\n",
    "6. [Getting unique rows](#6.-Getting-Unique-Rows)\n",
    "7. [Grouping](#7.-Grouping)\n",
    "8. [Grouping and then filtering](#8.-Grouping-and-Then-Filtering)"
   ]
  },
  {
   "cell_type": "markdown",
   "metadata": {},
   "source": [
    "## I. Connecting to your database\n",
    "In order to connect to your database, you need to import the sqlite3 module and create a database connection:\n",
    "1. Figure out what tables you have\n",
    "2. Figure out what columns each table has"
   ]
  },
  {
   "cell_type": "code",
   "execution_count": 1,
   "metadata": {},
   "outputs": [],
   "source": [
    "# use the sqlite3 library\n",
    "import sqlite3\n",
    "conn = sqlite3.connect('../databases/flights.db')"
   ]
  },
  {
   "cell_type": "markdown",
   "metadata": {},
   "source": [
    "## II. Getting Oriented with Your Database\n",
    "To understand what exists in your database, you have to know what tables are available and what each table looks like. This section will help you:\n",
    "1. Figure out what tables you have\n",
    "2. Figure out what columns each table has"
   ]
  },
  {
   "cell_type": "markdown",
   "metadata": {},
   "source": [
    "[back to top](#PART-1.-QUERYING-DATA)\n",
    "\n",
    "### 1. What tables does my database have?\n",
    "```sql\n",
    "SELECT name \n",
    "FROM sqlite_master \n",
    "WHERE type='table';\n",
    "```"
   ]
  },
  {
   "cell_type": "code",
   "execution_count": 2,
   "metadata": {},
   "outputs": [
    {
     "name": "stdout",
     "output_type": "stream",
     "text": [
      "[('airports',), ('airlines',), ('routes',)]\n",
      "\n",
      "List Tables:\n",
      "airports\n",
      "airlines\n",
      "routes\n"
     ]
    }
   ],
   "source": [
    "# create and execute a cursor (analagous to a file reader with an instruction):\n",
    "cur = conn.cursor()\n",
    "cur.execute(\"SELECT name FROM sqlite_master WHERE type='table';\")\n",
    "\n",
    "# put the results of your query into the results variable:\n",
    "results = cur.fetchall()\n",
    "print(results)\n",
    "\n",
    "# just adding a little formatting:\n",
    "print()\n",
    "print('List Tables:')\n",
    "for row in results:\n",
    "    print(row[0])"
   ]
  },
  {
   "cell_type": "markdown",
   "metadata": {},
   "source": [
    "[back to top](#PART-1.-QUERYING-DATA)\n",
    "\n",
    "### 2. What columns does my table have?\n",
    "```sql\n",
    "pragma table_info(<table_name>);\n",
    "```"
   ]
  },
  {
   "cell_type": "code",
   "execution_count": 3,
   "metadata": {},
   "outputs": [
    {
     "name": "stdout",
     "output_type": "stream",
     "text": [
      "[(0, 'index', 'INTEGER', 0, None, 0), (1, 'id', 'TEXT', 0, None, 0), (2, 'name', 'TEXT', 0, None, 0), (3, 'alias', 'TEXT', 0, None, 0), (4, 'iata', 'TEXT', 0, None, 0), (5, 'icao', 'TEXT', 0, None, 0), (6, 'callsign', 'TEXT', 0, None, 0), (7, 'country', 'TEXT', 0, None, 0), (8, 'active', 'TEXT', 0, None, 0)]\n",
      "\n",
      "-----------------------------------\n",
      "List each column name and datatype:\n",
      "-----------------------------------\n",
      "index (INTEGER)\n",
      "id (TEXT)\n",
      "name (TEXT)\n",
      "alias (TEXT)\n",
      "iata (TEXT)\n",
      "icao (TEXT)\n",
      "callsign (TEXT)\n",
      "country (TEXT)\n",
      "active (TEXT)\n"
     ]
    }
   ],
   "source": [
    "cur = conn.cursor()\n",
    "cur.execute(\"pragma table_info(airlines);\")\n",
    "results = cur.fetchall()\n",
    "print(results)\n",
    "\n",
    "# add a little formatting to make things easier to read:\n",
    "print()\n",
    "print('-' * 35)\n",
    "print('List each column name and datatype:')\n",
    "print('-' * 35)\n",
    "for row in results:\n",
    "    print(row[1] + ' (' +  row[2] + ')')"
   ]
  },
  {
   "cell_type": "markdown",
   "metadata": {},
   "source": [
    "## III. SELECT STATEMENTS \n",
    "Select statements are for querying your database and getting specific information out of a database to answer a question. There are several different parts of the select statement that allow you to target pieces of information:\n",
    "\n",
    "1. SELECT clause: which columns do you want (* means you want all of the columns)?\n",
    "2. FROM clause: which table do you want to query?\n",
    "3. WHERE clause: how do you want to filter your data?\n",
    "4. ORDER BY clause: how do you want to order your data?\n",
    "5. LIMIT clause: how many records do you want back?\n",
    "6. GROUP BY clause: do you want to aggregate information by a particular column?"
   ]
  },
  {
   "cell_type": "markdown",
   "metadata": {},
   "source": [
    "[back to top](#PART-1.-QUERYING-DATA)\n",
    "\n",
    "### 1. Select All Columns, Display the First 15 Rows\n",
    "Here, we will select data from every column in the airlines table, but only return the first 15 rows (since it's a big dataset).\n",
    "\n",
    "```sql\n",
    "SELECT * FROM airlines LIMIT 15;\n",
    "```\n",
    "\n",
    "* The asterisk indicates that we want all of the columns from the airlines table\n",
    "* The LIMIT clause limits the results to just the first 15 rows\n",
    "* Question: what is the data type of results?"
   ]
  },
  {
   "cell_type": "code",
   "execution_count": 4,
   "metadata": {},
   "outputs": [],
   "source": [
    "cur = conn.cursor()\n",
    "cur.execute(\"SELECT * FROM airlines LIMIT 15;\")\n",
    "results = cur.fetchall()\n",
    "# print(results)"
   ]
  },
  {
   "cell_type": "code",
   "execution_count": 35,
   "metadata": {},
   "outputs": [
    {
     "name": "stdout",
     "output_type": "stream",
     "text": [
      "(0, '1', 'Private flight', '\\\\N', '-', None, None, None, 'Y')\n",
      "(1, '2', '135 Airways', '\\\\N', None, 'GNL', 'GENERAL', 'United States', 'N')\n",
      "(2, '3', '1Time Airline', '\\\\N', '1T', 'RNX', 'NEXTIME', 'South Africa', 'Y')\n",
      "(3, '4', '2 Sqn No 1 Elementary Flying Training School', '\\\\N', None, 'WYT', None, 'United Kingdom', 'N')\n",
      "(4, '5', '213 Flight Unit', '\\\\N', None, 'TFU', None, 'Russia', 'N')\n",
      "(5, '6', '223 Flight Unit State Airline', '\\\\N', None, 'CHD', 'CHKALOVSK-AVIA', 'Russia', 'N')\n",
      "(6, '7', '224th Flight Unit', '\\\\N', None, 'TTF', 'CARGO UNIT', 'Russia', 'N')\n",
      "(7, '8', '247 Jet Ltd', '\\\\N', None, 'TWF', 'CLOUD RUNNER', 'United Kingdom', 'N')\n",
      "(8, '9', '3D Aviation', '\\\\N', None, 'SEC', 'SECUREX', 'United States', 'N')\n",
      "(9, '10', '40-Mile Air', '\\\\N', 'Q5', 'MLA', 'MILE-AIR', 'United States', 'Y')\n",
      "(10, '11', '4D Air', '\\\\N', None, 'QRT', 'QUARTET', 'Thailand', 'N')\n",
      "(11, '12', '611897 Alberta Limited', '\\\\N', None, 'THD', 'DONUT', 'Canada', 'N')\n",
      "(12, '13', 'Ansett Australia', '\\\\N', 'AN', 'AAA', 'ANSETT', 'Australia', 'Y')\n",
      "(13, '14', 'Abacus International', '\\\\N', '1B', None, None, 'Singapore', 'Y')\n",
      "(14, '15', 'Abelag Aviation', '\\\\N', 'W9', 'AAB', 'ABG', 'Belgium', 'N')\n"
     ]
    }
   ],
   "source": [
    "# make a loop and print everything:\n",
    "for row in results:\n",
    "    print(row)"
   ]
  },
  {
   "cell_type": "code",
   "execution_count": 36,
   "metadata": {},
   "outputs": [
    {
     "name": "stdout",
     "output_type": "stream",
     "text": [
      "Private flight\n",
      "135 Airways\n",
      "1Time Airline\n",
      "2 Sqn No 1 Elementary Flying Training School\n",
      "213 Flight Unit\n",
      "223 Flight Unit State Airline\n",
      "224th Flight Unit\n",
      "247 Jet Ltd\n",
      "3D Aviation\n",
      "40-Mile Air\n",
      "4D Air\n",
      "611897 Alberta Limited\n",
      "Ansett Australia\n",
      "Abacus International\n",
      "Abelag Aviation\n"
     ]
    }
   ],
   "source": [
    "# just print the name of the airline (third column) for each row:\n",
    "for row in results:\n",
    "    print(row[2])"
   ]
  },
  {
   "cell_type": "markdown",
   "metadata": {},
   "source": [
    "[back to top](#PART-1.-QUERYING-DATA)\n",
    "\n",
    "### 2. Select Some Columns, Display the First 15 Rows\n",
    "Now, rather than retrieving data about all of the columns, we're just asking for some of them.\n",
    "\n",
    " ```sql\n",
    " SELECT id, name, country, active \n",
    " FROM airlines \n",
    " LIMIT 15;\n",
    " ```"
   ]
  },
  {
   "cell_type": "code",
   "execution_count": 37,
   "metadata": {},
   "outputs": [
    {
     "name": "stdout",
     "output_type": "stream",
     "text": [
      "1 | Private flight | None | Y\n",
      "2 | 135 Airways | United States | N\n",
      "3 | 1Time Airline | South Africa | Y\n",
      "4 | 2 Sqn No 1 Elementary Flying Training School | United Kingdom | N\n",
      "5 | 213 Flight Unit | Russia | N\n",
      "6 | 223 Flight Unit State Airline | Russia | N\n",
      "7 | 224th Flight Unit | Russia | N\n",
      "8 | 247 Jet Ltd | United Kingdom | N\n",
      "9 | 3D Aviation | United States | N\n",
      "10 | 40-Mile Air | United States | Y\n",
      "11 | 4D Air | Thailand | N\n",
      "12 | 611897 Alberta Limited | Canada | N\n",
      "13 | Ansett Australia | Australia | Y\n",
      "14 | Abacus International | Singapore | Y\n",
      "15 | Abelag Aviation | Belgium | N\n"
     ]
    }
   ],
   "source": [
    "cur = conn.cursor()\n",
    "cur.execute(\"SELECT id, name, country, active FROM airlines LIMIT 15;\")\n",
    "results = cur.fetchall()\n",
    "# print(results)\n",
    "\n",
    "# adding some formatting:\n",
    "for result in results:\n",
    "    print(result[0], result[1], result[2], result[3], sep=' | ')\n",
    "    \n",
    "    \n",
    "# # alternative syntax (using the * operator):\n",
    "# for result in results:\n",
    "#     print(*result, sep=' | ')"
   ]
  },
  {
   "cell_type": "markdown",
   "metadata": {},
   "source": [
    "[back to top](#PART-1.-QUERYING-DATA)\n",
    "\n",
    "### 3. Select Some Columns, Filter by a Single Condition\n",
    "What if we only want flights **in the United Kingdom**?\n",
    "```sql\n",
    "SELECT id, name, country, active \n",
    "FROM airlines \n",
    "WHERE country = 'United Kingdom' \n",
    "LIMIT 15;\n",
    "```\n"
   ]
  },
  {
   "cell_type": "code",
   "execution_count": 38,
   "metadata": {},
   "outputs": [
    {
     "name": "stdout",
     "output_type": "stream",
     "text": [
      "4 | 2 Sqn No 1 Elementary Flying Training School | United Kingdom | N\n",
      "8 | 247 Jet Ltd | United Kingdom | N\n",
      "16 | Army Air Corps | United Kingdom | N\n",
      "52 | Avcard Services | United Kingdom | N\n",
      "59 | Air Charter Service | United Kingdom | N\n",
      "77 | Aero Dynamics | United Kingdom | N\n",
      "105 | Air Atlantique | United Kingdom | N\n",
      "112 | Astraeus | United Kingdom | Y\n",
      "138 | Air Partner | United Kingdom | N\n",
      "143 | Air Data | United Kingdom | N\n",
      "158 | Airfreight Express | United Kingdom | N\n",
      "232 | A J Services | United Kingdom | N\n",
      "269 | Albion Aviation | United Kingdom | N\n",
      "302 | Alan Mann Helicopters Ltd. | United Kingdom | N\n",
      "311 | Aeromedicare Ltd. | United Kingdom | N\n"
     ]
    }
   ],
   "source": [
    "cur = conn.cursor()\n",
    "cur.execute(\"SELECT id, name, country, active FROM airlines WHERE country = 'United Kingdom' LIMIT 15;\")\n",
    "results = cur.fetchall()\n",
    "\n",
    "for result in results:\n",
    "    print(result[0], result[1], result[2], result[3], sep=' | ')"
   ]
  },
  {
   "cell_type": "markdown",
   "metadata": {},
   "source": [
    "[back to top](#PART-1.-QUERYING-DATA)\n",
    "\n",
    "### 4. Select Some Columns, Filter by Two Condition (AND)\n",
    "What if we only want flights **in the United Kingdom which are currently are active**?\n",
    "```sql\n",
    "SELECT id, name, country, active \n",
    "FROM airlines \n",
    "WHERE country = 'United Kingdom' and active = 'Y' \n",
    "LIMIT 15;\n",
    "```\n",
    "\n"
   ]
  },
  {
   "cell_type": "code",
   "execution_count": 39,
   "metadata": {
    "scrolled": true
   },
   "outputs": [
    {
     "name": "stdout",
     "output_type": "stream",
     "text": [
      "112 | Astraeus | United Kingdom | Y\n",
      "492 | Air Southwest | United Kingdom | Y\n",
      "508 | Aurigny Air Services | United Kingdom | Y\n",
      "565 | Air Wales | United Kingdom | Y\n",
      "665 | AD Aviation | United Kingdom | Y\n",
      "690 | Air Foyle | United Kingdom | Y\n",
      "1355 | British Airways | United Kingdom | Y\n",
      "1411 | British International Helicopters | United Kingdom | Y\n",
      "1437 | bmi | United Kingdom | Y\n",
      "1441 | bmibaby | United Kingdom | Y\n",
      "1445 | British Midland Regional | United Kingdom | Y\n",
      "1543 | British Mediterranean Airways | United Kingdom | Y\n",
      "1795 | BA CityFlyer | United Kingdom | Y\n",
      "1923 | Crest Aviation | United Kingdom | Y\n",
      "2117 | Eastern Airways | United Kingdom | Y\n"
     ]
    }
   ],
   "source": [
    "cur = conn.cursor()\n",
    "cur.execute('''\n",
    "SELECT id, name, country, active \n",
    "FROM airlines \n",
    "WHERE country = 'United Kingdom' and active = 'Y' \n",
    "LIMIT 15;\n",
    "''')\n",
    "results = cur.fetchall()\n",
    "\n",
    "for result in results:\n",
    "    print(result[0], result[1], result[2], result[3], sep=' | ')"
   ]
  },
  {
   "cell_type": "markdown",
   "metadata": {},
   "source": [
    "[back to top](#PART-1.-QUERYING-DATA)\n",
    "\n",
    "### 5. Select Some Columns, Filter by Two Condition (OR)\n",
    "What if we only want flights **in the United Kingdom which are currently are active**?\n",
    "```sql\n",
    "SELECT id, name, country, active \n",
    "FROM airlines \n",
    "WHERE country = 'Colombia' or country = 'Brazil' \n",
    "LIMIT 15;\n",
    "```\n",
    "\n"
   ]
  },
  {
   "cell_type": "code",
   "execution_count": 40,
   "metadata": {
    "scrolled": true
   },
   "outputs": [
    {
     "name": "stdout",
     "output_type": "stream",
     "text": [
      "42 | ABSA - Aerolinhas Brasileiras | Brazil | Y\n",
      "43 | Abaet | Brazil | N\n",
      "45 | APSA Colombia | Colombia | N\n",
      "46 | Aerovias Bueno | Colombia | N\n",
      "51 | ATA Brasil | Brazil | N\n",
      "98 | Aeroexpreso Interamericano | Colombia | N\n",
      "110 | ACES Colombia | Colombia | Y\n",
      "226 | Airvias S/A Linhas Aereas | Brazil | N\n",
      "245 | Aeroejecutivos Colombia | Colombia | N\n",
      "258 | Arca Aerovias Colombianas Ltda. | Colombia | N\n",
      "270 | Aeroalas Colombia | Colombia | N\n",
      "297 | Aerolineas Medellin | Colombia | N\n",
      "301 | Air Minas Linhas A | Brazil | N\n",
      "339 | Aerol | Colombia | N\n",
      "359 | Aeroatlantico Colombia | Colombia | N\n"
     ]
    }
   ],
   "source": [
    "cur = conn.cursor()\n",
    "cur.execute('''\n",
    "SELECT id, name, country, active \n",
    "FROM airlines \n",
    "WHERE country = 'Colombia' or country = 'Brazil' \n",
    "LIMIT 15;\n",
    "''')\n",
    "results = cur.fetchall()\n",
    "\n",
    "for result in results:\n",
    "    print(result[0], result[1], result[2], result[3], sep=' | ')"
   ]
  },
  {
   "cell_type": "markdown",
   "metadata": {},
   "source": [
    "[back to top](#PART-1.-QUERYING-DATA)\n",
    "\n",
    "### 6. Getting Unique Rows\n",
    "What if we want to know which countries were represented in the airlines data table?\n",
    "\n",
    "```sql\n",
    "SELECT DISTINCT country \n",
    "FROM airlines;\n",
    "```"
   ]
  },
  {
   "cell_type": "code",
   "execution_count": 41,
   "metadata": {},
   "outputs": [
    {
     "name": "stdout",
     "output_type": "stream",
     "text": [
      "None\n",
      "United States\n",
      "South Africa\n",
      "United Kingdom\n",
      "Russia\n",
      "Thailand\n",
      "Canada\n",
      "Australia\n",
      "Singapore\n",
      "Belgium\n",
      "Mexico\n",
      "Spain\n",
      "France\n",
      "United Arab Emirates\n",
      "Republic of Korea\n",
      "Pakistan\n",
      "Libya\n",
      "Gambia\n",
      "Ivory Coast\n",
      "Ukraine\n",
      "Democratic Republic of the Congo\n",
      "Iran\n",
      "Finland\n",
      "Brazil\n",
      "Colombia\n"
     ]
    }
   ],
   "source": [
    "cur = conn.cursor()\n",
    "cur.execute(\"SELECT DISTINCT country FROM airlines LIMIT 25;\")\n",
    "results = cur.fetchall()\n",
    "\n",
    "# alternative syntax (using the * operator):\n",
    "for result in results:\n",
    "    print(result[0])"
   ]
  },
  {
   "cell_type": "markdown",
   "metadata": {},
   "source": [
    "[back to top](#PART-1.-QUERYING-DATA)\n",
    "\n",
    "### 7. Grouping\n",
    "What if we want to know which countries were represented in the airlines data table?\n",
    "\n",
    "```sql\n",
    "SELECT country, count(country) as airline_count\n",
    "FROM airlines\n",
    "GROUP BY country\n",
    "ORDER BY airline_count desc\n",
    "LIMIT 25;\n",
    "```\n"
   ]
  },
  {
   "cell_type": "code",
   "execution_count": 42,
   "metadata": {},
   "outputs": [
    {
     "name": "stdout",
     "output_type": "stream",
     "text": [
      "United States 1080\n",
      "Mexico 439\n",
      "United Kingdom 407\n",
      "Canada 318\n",
      "Russia 230\n",
      "Spain 166\n",
      "Germany 131\n",
      "France 119\n",
      "Australia 93\n",
      "South Africa 91\n",
      "Italy 90\n",
      "Ukraine 89\n",
      "Nigeria 85\n",
      "Kazakhstan 79\n",
      "China 70\n",
      "Sweden 70\n",
      "Switzerland 60\n",
      "Brazil 58\n",
      "Netherlands 52\n",
      "Austria 50\n",
      "Sudan 49\n",
      "Egypt 48\n",
      "Indonesia 48\n",
      "Thailand 48\n",
      "Portugal 45\n"
     ]
    }
   ],
   "source": [
    "# Note: you can break the line (if you surround a string with triple quotes) for readability:\n",
    "cur = conn.cursor()\n",
    "cur.execute('''\n",
    "   SELECT country, count(country) as airline_count \n",
    "   FROM airlines \n",
    "   GROUP BY country \n",
    "   ORDER BY airline_count desc \n",
    "   LIMIT 25;\n",
    "''')\n",
    "results = cur.fetchall()\n",
    "\n",
    "# alternative syntax (using the * operator):\n",
    "for result in results:\n",
    "    print(result[0], result[1])"
   ]
  },
  {
   "cell_type": "markdown",
   "metadata": {},
   "source": [
    "[back to top](#PART-1.-QUERYING-DATA)\n",
    "\n",
    "### 8. Grouping and Then Filtering\n",
    "What if we want to know which countries were represented in the airlines data table?\n",
    "\n",
    "```sql\n",
    "SELECT country, count(country) as airline_count\n",
    "FROM airlines\n",
    "GROUP BY country\n",
    "HAVING count(country) > 10\n",
    "ORDER BY airline_count desc\n",
    "LIMIT 25;\n",
    "```\n"
   ]
  },
  {
   "cell_type": "code",
   "execution_count": 43,
   "metadata": {},
   "outputs": [
    {
     "name": "stdout",
     "output_type": "stream",
     "text": [
      "United States 141\n",
      "Russia 72\n",
      "United Kingdom 40\n",
      "Germany 37\n",
      "Canada 34\n",
      "Australia 26\n",
      "China 25\n",
      "Spain 24\n",
      "Brazil 23\n",
      "France 22\n",
      "Japan 19\n",
      "Italy 18\n",
      "India 17\n",
      "Indonesia 17\n",
      "Thailand 16\n",
      "Turkey 16\n",
      "Sweden 15\n",
      "Switzerland 14\n",
      "Portugal 13\n",
      "Ukraine 13\n",
      "Austria 12\n",
      "Egypt 12\n",
      "Finland 12\n",
      "Mexico 12\n",
      "Peru 11\n"
     ]
    }
   ],
   "source": [
    "# Note: you can break the line (if you surround a string with triple quotes) for readability:\n",
    "cur = conn.cursor()\n",
    "cur.execute('''\n",
    "   SELECT country, count(country) as airline_count \n",
    "   FROM airlines \n",
    "   WHERE active ='Y'\n",
    "   GROUP BY country \n",
    "   HAVING count(country) > 10\n",
    "   ORDER BY airline_count desc;\n",
    "''')\n",
    "results = cur.fetchall()\n",
    "\n",
    "# alternative syntax (using the * operator):\n",
    "for result in results:\n",
    "    print(result[0], result[1])"
   ]
  },
  {
   "cell_type": "code",
   "execution_count": 44,
   "metadata": {},
   "outputs": [],
   "source": [
    "conn.close()"
   ]
  }
 ],
 "metadata": {
  "kernelspec": {
   "display_name": "Python 3",
   "language": "python",
   "name": "python3"
  },
  "language_info": {
   "codemirror_mode": {
    "name": "ipython",
    "version": 3
   },
   "file_extension": ".py",
   "mimetype": "text/x-python",
   "name": "python",
   "nbconvert_exporter": "python",
   "pygments_lexer": "ipython3",
   "version": "3.7.0"
  }
 },
 "nbformat": 4,
 "nbformat_minor": 2
}
