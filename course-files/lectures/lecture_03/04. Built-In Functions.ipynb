{
 "cells": [
  {
   "cell_type": "markdown",
   "metadata": {},
   "source": [
    "# FUNCTIONS"
   ]
  },
  {
   "cell_type": "markdown",
   "metadata": {},
   "source": [
    "## 2. Built-In Functions\n",
    "Python has a number of built-in functions and classes, which can be found by reading the Python 3.x reference guide: https://docs.python.org/3/library/functions.html. A few of the more useful ones are listed below. Note, when reading the documentation, there are a number of conventions that are important to understand:\n",
    "\n",
    "1. arguments with brackets around them indicate that they are optional.\n"
   ]
  },
  {
   "cell_type": "markdown",
   "metadata": {},
   "source": [
    "| Name | Description |\n",
    "|--|--|\n",
    "| [print()](#print) | Prints one or more objects to the screen. |\n",
    "| [dir()](#dir) | Tells you a list of valid attributes for the object or type you pass in as an argument. Very useful for learning the different kinds of data or build-in functions are associated with the object. |\n",
    "| [type()](#type) | Tells you what kind of data type a particular object is. |\n",
    "| [len()](#len) | Return the length (the number of items) of an object. The argument may be a sequence (such as a string, bytes, tuple, list, or range) or a collection. |\n",
    "| [input()](#input) | Prompts the user for an input, reads a line from the user's input, and converts the input to a string. |\n",
    "| [str()](#str) | Returns a string version of an object. |\n",
    "| [float()](#float) | Returns a float version of a number or string (if it can). |\n",
    "| [int()](#int) | Returns a int version of a number or string (if it can).  |\n",
    "| [bool()](#bool) | Returns a bool version of an expression (if it can).  |"
   ]
  },
  {
   "cell_type": "markdown",
   "metadata": {},
   "source": [
    "###  Some frequently used built-in functions and classes are described below"
   ]
  },
  {
   "cell_type": "markdown",
   "metadata": {},
   "source": [
    "### print\n",
    "Prints one or more objects to the screen."
   ]
  },
  {
   "cell_type": "code",
   "execution_count": null,
   "metadata": {},
   "outputs": [],
   "source": [
    "# print a single argument:\n",
    "print('Hi there')"
   ]
  },
  {
   "cell_type": "code",
   "execution_count": null,
   "metadata": {},
   "outputs": [],
   "source": [
    "# print multiple arguments with a space in between each argument:\n",
    "print('Hello', 'how', 'are', 'you', 'doing', '?')\n",
    "print('The answer is:', 22)"
   ]
  },
  {
   "cell_type": "markdown",
   "metadata": {},
   "source": [
    "### dir\n",
    "* No arguments: returns the list of names in the current local scope.\n",
    "* With 1 argument: Tells you a list of valid attributes for the object or type you pass in as an argument. \n",
    "This function is very useful for learning the different kinds of data or build-in functions are associated with the object. "
   ]
  },
  {
   "cell_type": "code",
   "execution_count": 6,
   "metadata": {},
   "outputs": [
    {
     "name": "stdout",
     "output_type": "stream",
     "text": [
      "['__add__', '__class__', '__contains__', '__delattr__', '__dir__', '__doc__', '__eq__', '__format__', '__ge__', '__getattribute__', '__getitem__', '__getnewargs__', '__gt__', '__hash__', '__init__', '__init_subclass__', '__iter__', '__le__', '__len__', '__lt__', '__mod__', '__mul__', '__ne__', '__new__', '__reduce__', '__reduce_ex__', '__repr__', '__rmod__', '__rmul__', '__setattr__', '__sizeof__', '__str__', '__subclasshook__', 'capitalize', 'casefold', 'center', 'count', 'encode', 'endswith', 'expandtabs', 'find', 'format', 'format_map', 'index', 'isalnum', 'isalpha', 'isascii', 'isdecimal', 'isdigit', 'isidentifier', 'islower', 'isnumeric', 'isprintable', 'isspace', 'istitle', 'isupper', 'join', 'ljust', 'lower', 'lstrip', 'maketrans', 'partition', 'replace', 'rfind', 'rindex', 'rjust', 'rpartition', 'rsplit', 'rstrip', 'split', 'splitlines', 'startswith', 'strip', 'swapcase', 'title', 'translate', 'upper', 'zfill']\n",
      "\n",
      "lower(): hello world!!!  \n",
      "this is an important message.\n",
      "\n",
      "upper(): HELLO WORLD!!!  \n",
      "THIS IS AN IMPORTANT MESSAGE.\n",
      "\n",
      "strip(): Hello World!!!  \n",
      "This is an important message.\n",
      "\n",
      "splitlines(): ['Hello World!!!  ', 'This is an important message.']\n"
     ]
    }
   ],
   "source": [
    "# note: this function tells me some of the possible methods that are associated with the print object.\n",
    "message = 'Hello World!!!  \\nThis is an important message.'\n",
    "print(dir('  Hello  '))"
   ]
  },
  {
   "cell_type": "code",
   "execution_count": 8,
   "metadata": {},
   "outputs": [
    {
     "name": "stdout",
     "output_type": "stream",
     "text": [
      "\n",
      "lower(): hello world!!!  \n",
      "this is an important message.\n",
      "\n",
      "upper(): HELLO WORLD!!!  \n",
      "THIS IS AN IMPORTANT MESSAGE.\n",
      "\n",
      "strip(): Hello World!!!  \n",
      "This is an important message.\n",
      "\n",
      "splitlines(): ['Hello World!!!  ', 'This is an important message.']\n"
     ]
    }
   ],
   "source": [
    "# from the dir function above, I now know that I can use the following \n",
    "# string methods. Therefore, dir is a convenient way to understand the\n",
    "# kind of object you have and what you can do with it.\n",
    "print('\\nlower():', message.lower())\n",
    "print('\\nupper():', message.upper())\n",
    "print('\\nstrip():', message.strip())\n",
    "print('\\nsplitlines():', message.splitlines())"
   ]
  },
  {
   "cell_type": "code",
   "execution_count": 13,
   "metadata": {},
   "outputs": [
    {
     "name": "stdout",
     "output_type": "stream",
     "text": [
      "['__abs__', '__add__', '__bool__', '__class__', '__delattr__', '__dir__', '__divmod__', '__doc__', '__eq__', '__float__', '__floordiv__', '__format__', '__ge__', '__getattribute__', '__getformat__', '__getnewargs__', '__gt__', '__hash__', '__init__', '__init_subclass__', '__int__', '__le__', '__lt__', '__mod__', '__mul__', '__ne__', '__neg__', '__new__', '__pos__', '__pow__', '__radd__', '__rdivmod__', '__reduce__', '__reduce_ex__', '__repr__', '__rfloordiv__', '__rmod__', '__rmul__', '__round__', '__rpow__', '__rsub__', '__rtruediv__', '__set_format__', '__setattr__', '__sizeof__', '__str__', '__sub__', '__subclasshook__', '__truediv__', '__trunc__', 'as_integer_ratio', 'conjugate', 'fromhex', 'hex', 'imag', 'is_integer', 'real']\n"
     ]
    }
   ],
   "source": [
    "print(dir(3.5))"
   ]
  },
  {
   "cell_type": "code",
   "execution_count": null,
   "metadata": {},
   "outputs": [],
   "source": [
    "print(dir(3))"
   ]
  },
  {
   "cell_type": "markdown",
   "metadata": {},
   "source": [
    "### type\n",
    "Tells you what kind of data type a particular object is."
   ]
  },
  {
   "cell_type": "code",
   "execution_count": null,
   "metadata": {},
   "outputs": [],
   "source": [
    "print(type(3))\n",
    "print(type(3.5))\n",
    "print(type(True))\n",
    "print(type('Hello'))\n",
    "print(type(type))"
   ]
  },
  {
   "cell_type": "markdown",
   "metadata": {},
   "source": [
    "### len\n",
    "Return the length (the number of items) of an object. The argument may be a sequence (such as a string, bytes, tuple, list, or range) or a collection."
   ]
  },
  {
   "cell_type": "code",
   "execution_count": null,
   "metadata": {},
   "outputs": [],
   "source": [
    "print(len('Hello world'))  # length of a string\n",
    "print(len([1, 2, 3, 4, 5]))  # length of a list\n",
    "print(len({'a': 1, 'b': 2, 'c': 3}))  # length of a dictionary"
   ]
  },
  {
   "cell_type": "markdown",
   "metadata": {},
   "source": [
    "### input\n",
    "Prompts the user for an input, reads a line from the user's input, and converts the input to a string."
   ]
  },
  {
   "cell_type": "code",
   "execution_count": null,
   "metadata": {},
   "outputs": [],
   "source": [
    "answer = input('How old are you? ')\n",
    "print(answer)"
   ]
  },
  {
   "cell_type": "markdown",
   "metadata": {},
   "source": [
    "### str\n",
    "Returns a string version of an object. "
   ]
  },
  {
   "cell_type": "code",
   "execution_count": null,
   "metadata": {},
   "outputs": [],
   "source": [
    "print(str(1))\n",
    "print(str(1.5))\n",
    "print(str(True))\n",
    "print(str(dir))\n",
    "print(str(int))\n",
    "print(str(len))"
   ]
  },
  {
   "cell_type": "markdown",
   "metadata": {},
   "source": [
    "### float\n",
    "Returns a float version of a number or string (if it can)."
   ]
  },
  {
   "cell_type": "code",
   "execution_count": 14,
   "metadata": {},
   "outputs": [
    {
     "name": "stdout",
     "output_type": "stream",
     "text": [
      "2.99\n"
     ]
    }
   ],
   "source": [
    "print(float('2.99'))"
   ]
  },
  {
   "cell_type": "code",
   "execution_count": 22,
   "metadata": {},
   "outputs": [
    {
     "name": "stdout",
     "output_type": "stream",
     "text": [
      "-400000000.0\n",
      "-400000000.0\n"
     ]
    }
   ],
   "source": [
    "print(float('-4E8'))  # same as -4.0 * 10 ** 8\n",
    "print(-4.0 * 10 ** 8)"
   ]
  },
  {
   "cell_type": "code",
   "execution_count": null,
   "metadata": {},
   "outputs": [],
   "source": [
    "print(float(2))"
   ]
  },
  {
   "cell_type": "markdown",
   "metadata": {},
   "source": [
    "### int\n",
    "Returns a int version of a number or string (if it can). "
   ]
  },
  {
   "cell_type": "code",
   "execution_count": null,
   "metadata": {},
   "outputs": [],
   "source": [
    "print(int(True))"
   ]
  },
  {
   "cell_type": "code",
   "execution_count": null,
   "metadata": {},
   "outputs": [],
   "source": [
    "print(int(2.99))"
   ]
  },
  {
   "cell_type": "code",
   "execution_count": null,
   "metadata": {},
   "outputs": [],
   "source": [
    "# print(int('2.99'))  # this does not work\n",
    "print(int('2'))"
   ]
  },
  {
   "cell_type": "code",
   "execution_count": null,
   "metadata": {},
   "outputs": [],
   "source": [
    "# print(int('hi'))  # this does not work"
   ]
  },
  {
   "cell_type": "markdown",
   "metadata": {},
   "source": [
    "### bool\n",
    "Returns a bool version of an expression (if it can)."
   ]
  },
  {
   "cell_type": "code",
   "execution_count": null,
   "metadata": {},
   "outputs": [],
   "source": [
    "print(bool(1))"
   ]
  },
  {
   "cell_type": "code",
   "execution_count": null,
   "metadata": {},
   "outputs": [],
   "source": [
    "print(bool('True'))"
   ]
  },
  {
   "cell_type": "code",
   "execution_count": null,
   "metadata": {},
   "outputs": [],
   "source": [
    "print(bool(True))"
   ]
  },
  {
   "cell_type": "code",
   "execution_count": null,
   "metadata": {},
   "outputs": [],
   "source": [
    "print(bool('False')) # non-empty things get converted to True"
   ]
  },
  {
   "cell_type": "code",
   "execution_count": null,
   "metadata": {},
   "outputs": [],
   "source": [
    "print(bool([33]))  # non-empty things get converted to True"
   ]
  },
  {
   "cell_type": "code",
   "execution_count": null,
   "metadata": {},
   "outputs": [],
   "source": [
    "print(bool(False)) "
   ]
  },
  {
   "cell_type": "code",
   "execution_count": null,
   "metadata": {},
   "outputs": [],
   "source": [
    "print(bool(None))  # empty things get converted to False"
   ]
  },
  {
   "cell_type": "code",
   "execution_count": null,
   "metadata": {},
   "outputs": [],
   "source": [
    "print(bool(0))     # 0 gets converted to False"
   ]
  },
  {
   "cell_type": "code",
   "execution_count": null,
   "metadata": {},
   "outputs": [],
   "source": [
    "print(bool([]))  # empty things get converted to False"
   ]
  },
  {
   "cell_type": "code",
   "execution_count": 2,
   "metadata": {},
   "outputs": [
    {
     "data": {
      "text/html": [
       "<!-- some HTML styling. Ignore this cell -->\n",
       "<style>\n",
       "    .rendered_html td, .rendered_html th { text-align: left; }\n",
       "    .rendered_html table { max-width: 700px; }\n",
       "</style>"
      ],
      "text/plain": [
       "<IPython.core.display.HTML object>"
      ]
     },
     "metadata": {},
     "output_type": "display_data"
    }
   ],
   "source": [
    "%%html\n",
    "<!-- some HTML styling. Ignore this cell -->\n",
    "<style>\n",
    "    .rendered_html td, .rendered_html th { text-align: left; }\n",
    "    .rendered_html table { max-width: 700px; }\n",
    "</style>"
   ]
  }
 ],
 "metadata": {
  "kernelspec": {
   "display_name": "Python 3",
   "language": "python",
   "name": "python3"
  },
  "language_info": {
   "codemirror_mode": {
    "name": "ipython",
    "version": 3
   },
   "file_extension": ".py",
   "mimetype": "text/x-python",
   "name": "python",
   "nbconvert_exporter": "python",
   "pygments_lexer": "ipython3",
   "version": "3.7.0"
  }
 },
 "nbformat": 4,
 "nbformat_minor": 2
}
