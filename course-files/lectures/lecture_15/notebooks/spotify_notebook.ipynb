{
 "cells": [
  {
   "cell_type": "code",
   "execution_count": 12,
   "metadata": {},
   "outputs": [],
   "source": [
    "import pprint\n",
    "import urllib.request\n",
    "from urllib.request import urlopen\n",
    "import json\n",
    "from IPython.display import HTML"
   ]
  },
  {
   "cell_type": "markdown",
   "metadata": {},
   "source": [
    "## Some Helper Functions to Interact With Spotify"
   ]
  },
  {
   "cell_type": "code",
   "execution_count": 13,
   "metadata": {},
   "outputs": [],
   "source": [
    "# Handles security:\n",
    "def get_token():\n",
    "    url = 'https://eecs110-apis.herokuapp.com/spotify' # authenticates to Spotify\n",
    "    results = urlopen(url).read().decode('utf-8', 'ignore')\n",
    "    return json.loads(results)['token']\n",
    "\n",
    "# retrieves data from any Spotify endpoint:\n",
    "def _retrieve_from_spotify(url):\n",
    "    request = urllib.request.Request(url, None, {\n",
    "        'Authorization': 'Bearer ' + get_token()\n",
    "    })\n",
    "    with urllib.request.urlopen(request) as response:\n",
    "        data = json.loads(response.read().decode())\n",
    "        return data\n",
    "    \n",
    "# retrieves tracks:\n",
    "def get_tracks(search_term):\n",
    "    search_term = urllib.parse.quote_plus(search_term)\n",
    "    url = 'https://api.spotify.com/v1/search?q=' + search_term + '&type=track'\n",
    "    return _retrieve_from_spotify(url)\n",
    "\n",
    "# retrieves artists:\n",
    "def get_artists(search_term):\n",
    "    search_term = urllib.parse.quote_plus(search_term)\n",
    "    url = 'https://api.spotify.com/v1/search?q=' + search_term + '&type=artist'\n",
    "    return _retrieve_from_spotify(url)\n",
    "\n",
    "# renders the spotify HTML player (by track ID)\n",
    "def get_spotify_player(track_id):\n",
    "    return '''\n",
    "    <iframe src=\"https://open.spotify.com/embed?uri=spotify:track:{track_id}&amp;theme=white\" width=\"300\" height=\"80\" frameborder=\"0\" allowtransparency=\"true\" allow=\"encrypted-media\" data-testid=\"audio-player\">\n",
    "    </iframe>\n",
    "    '''.format(track_id=track_id)\n",
    "\n",
    "# renders an image (with URL argument)\n",
    "def get_image_html(image_url):\n",
    "    from IPython.display import Image\n",
    "    return Image(url=image_url)._repr_html_()\n",
    "    "
   ]
  },
  {
   "cell_type": "markdown",
   "metadata": {},
   "source": [
    "## Program to search for Spotify data"
   ]
  },
  {
   "cell_type": "code",
   "execution_count": 15,
   "metadata": {},
   "outputs": [
    {
     "data": {
      "text/html": [
       "\n",
       "    <iframe src=\"https://open.spotify.com/embed?uri=spotify:track:1YwNlWLf8auhazSQUDQLFU&amp;theme=white\" width=\"300\" height=\"80\" frameborder=\"0\" allowtransparency=\"true\" allow=\"encrypted-media\" data-testid=\"audio-player\">\n",
       "    </iframe>\n",
       "    "
      ],
      "text/plain": [
       "<IPython.core.display.HTML object>"
      ]
     },
     "metadata": {},
     "output_type": "display_data"
    },
    {
     "data": {
      "text/html": [
       "\n",
       "    <iframe src=\"https://open.spotify.com/embed?uri=spotify:track:1xShPgQbOUa98avWJQFDBY&amp;theme=white\" width=\"300\" height=\"80\" frameborder=\"0\" allowtransparency=\"true\" allow=\"encrypted-media\" data-testid=\"audio-player\">\n",
       "    </iframe>\n",
       "    "
      ],
      "text/plain": [
       "<IPython.core.display.HTML object>"
      ]
     },
     "metadata": {},
     "output_type": "display_data"
    },
    {
     "data": {
      "text/html": [
       "\n",
       "    <iframe src=\"https://open.spotify.com/embed?uri=spotify:track:0xuXRQJfxmdP6gvfDe2Z4L&amp;theme=white\" width=\"300\" height=\"80\" frameborder=\"0\" allowtransparency=\"true\" allow=\"encrypted-media\" data-testid=\"audio-player\">\n",
       "    </iframe>\n",
       "    "
      ],
      "text/plain": [
       "<IPython.core.display.HTML object>"
      ]
     },
     "metadata": {},
     "output_type": "display_data"
    },
    {
     "data": {
      "text/html": [
       "\n",
       "    <iframe src=\"https://open.spotify.com/embed?uri=spotify:track:0C6EIiQu8CS4eYtOCMEiAd&amp;theme=white\" width=\"300\" height=\"80\" frameborder=\"0\" allowtransparency=\"true\" allow=\"encrypted-media\" data-testid=\"audio-player\">\n",
       "    </iframe>\n",
       "    "
      ],
      "text/plain": [
       "<IPython.core.display.HTML object>"
      ]
     },
     "metadata": {},
     "output_type": "display_data"
    },
    {
     "data": {
      "text/html": [
       "\n",
       "    <iframe src=\"https://open.spotify.com/embed?uri=spotify:track:3c4bJL7mARZvd387847GsC&amp;theme=white\" width=\"300\" height=\"80\" frameborder=\"0\" allowtransparency=\"true\" allow=\"encrypted-media\" data-testid=\"audio-player\">\n",
       "    </iframe>\n",
       "    "
      ],
      "text/plain": [
       "<IPython.core.display.HTML object>"
      ]
     },
     "metadata": {},
     "output_type": "display_data"
    },
    {
     "data": {
      "text/html": [
       "\n",
       "    <iframe src=\"https://open.spotify.com/embed?uri=spotify:track:3GREm6zSHwKZsJxl0hqbAQ&amp;theme=white\" width=\"300\" height=\"80\" frameborder=\"0\" allowtransparency=\"true\" allow=\"encrypted-media\" data-testid=\"audio-player\">\n",
       "    </iframe>\n",
       "    "
      ],
      "text/plain": [
       "<IPython.core.display.HTML object>"
      ]
     },
     "metadata": {},
     "output_type": "display_data"
    },
    {
     "data": {
      "text/html": [
       "\n",
       "    <iframe src=\"https://open.spotify.com/embed?uri=spotify:track:04ARYAWkGZZhDbHqgvnYGf&amp;theme=white\" width=\"300\" height=\"80\" frameborder=\"0\" allowtransparency=\"true\" allow=\"encrypted-media\" data-testid=\"audio-player\">\n",
       "    </iframe>\n",
       "    "
      ],
      "text/plain": [
       "<IPython.core.display.HTML object>"
      ]
     },
     "metadata": {},
     "output_type": "display_data"
    },
    {
     "data": {
      "text/html": [
       "\n",
       "    <iframe src=\"https://open.spotify.com/embed?uri=spotify:track:6MHOg9xiYC2gj8zcASaLUo&amp;theme=white\" width=\"300\" height=\"80\" frameborder=\"0\" allowtransparency=\"true\" allow=\"encrypted-media\" data-testid=\"audio-player\">\n",
       "    </iframe>\n",
       "    "
      ],
      "text/plain": [
       "<IPython.core.display.HTML object>"
      ]
     },
     "metadata": {},
     "output_type": "display_data"
    },
    {
     "data": {
      "text/html": [
       "\n",
       "    <iframe src=\"https://open.spotify.com/embed?uri=spotify:track:2H1BmB1b6Px9KJXIUpD03u&amp;theme=white\" width=\"300\" height=\"80\" frameborder=\"0\" allowtransparency=\"true\" allow=\"encrypted-media\" data-testid=\"audio-player\">\n",
       "    </iframe>\n",
       "    "
      ],
      "text/plain": [
       "<IPython.core.display.HTML object>"
      ]
     },
     "metadata": {},
     "output_type": "display_data"
    },
    {
     "data": {
      "text/html": [
       "\n",
       "    <iframe src=\"https://open.spotify.com/embed?uri=spotify:track:2TPHQViCGVL2svjhqVDHOr&amp;theme=white\" width=\"300\" height=\"80\" frameborder=\"0\" allowtransparency=\"true\" allow=\"encrypted-media\" data-testid=\"audio-player\">\n",
       "    </iframe>\n",
       "    "
      ],
      "text/plain": [
       "<IPython.core.display.HTML object>"
      ]
     },
     "metadata": {},
     "output_type": "display_data"
    },
    {
     "data": {
      "text/html": [
       "\n",
       "    <iframe src=\"https://open.spotify.com/embed?uri=spotify:track:70B5oP5ng1QYClkJ9CeWly&amp;theme=white\" width=\"300\" height=\"80\" frameborder=\"0\" allowtransparency=\"true\" allow=\"encrypted-media\" data-testid=\"audio-player\">\n",
       "    </iframe>\n",
       "    "
      ],
      "text/plain": [
       "<IPython.core.display.HTML object>"
      ]
     },
     "metadata": {},
     "output_type": "display_data"
    },
    {
     "data": {
      "text/html": [
       "\n",
       "    <iframe src=\"https://open.spotify.com/embed?uri=spotify:track:1EjQRTG53jsinzk2xlVVJP&amp;theme=white\" width=\"300\" height=\"80\" frameborder=\"0\" allowtransparency=\"true\" allow=\"encrypted-media\" data-testid=\"audio-player\">\n",
       "    </iframe>\n",
       "    "
      ],
      "text/plain": [
       "<IPython.core.display.HTML object>"
      ]
     },
     "metadata": {},
     "output_type": "display_data"
    },
    {
     "data": {
      "text/html": [
       "\n",
       "    <iframe src=\"https://open.spotify.com/embed?uri=spotify:track:3gv4AhWWneEu2oh1Egz652&amp;theme=white\" width=\"300\" height=\"80\" frameborder=\"0\" allowtransparency=\"true\" allow=\"encrypted-media\" data-testid=\"audio-player\">\n",
       "    </iframe>\n",
       "    "
      ],
      "text/plain": [
       "<IPython.core.display.HTML object>"
      ]
     },
     "metadata": {},
     "output_type": "display_data"
    },
    {
     "data": {
      "text/html": [
       "\n",
       "    <iframe src=\"https://open.spotify.com/embed?uri=spotify:track:1EpjMVaoloW4sLIdfVD6P8&amp;theme=white\" width=\"300\" height=\"80\" frameborder=\"0\" allowtransparency=\"true\" allow=\"encrypted-media\" data-testid=\"audio-player\">\n",
       "    </iframe>\n",
       "    "
      ],
      "text/plain": [
       "<IPython.core.display.HTML object>"
      ]
     },
     "metadata": {},
     "output_type": "display_data"
    },
    {
     "data": {
      "text/html": [
       "\n",
       "    <iframe src=\"https://open.spotify.com/embed?uri=spotify:track:31xOx8PgBKBdXk5gfUvr0p&amp;theme=white\" width=\"300\" height=\"80\" frameborder=\"0\" allowtransparency=\"true\" allow=\"encrypted-media\" data-testid=\"audio-player\">\n",
       "    </iframe>\n",
       "    "
      ],
      "text/plain": [
       "<IPython.core.display.HTML object>"
      ]
     },
     "metadata": {},
     "output_type": "display_data"
    },
    {
     "data": {
      "text/html": [
       "\n",
       "    <iframe src=\"https://open.spotify.com/embed?uri=spotify:track:7L2iZa0yNoW8DSwCs2OAw3&amp;theme=white\" width=\"300\" height=\"80\" frameborder=\"0\" allowtransparency=\"true\" allow=\"encrypted-media\" data-testid=\"audio-player\">\n",
       "    </iframe>\n",
       "    "
      ],
      "text/plain": [
       "<IPython.core.display.HTML object>"
      ]
     },
     "metadata": {},
     "output_type": "display_data"
    },
    {
     "data": {
      "text/html": [
       "\n",
       "    <iframe src=\"https://open.spotify.com/embed?uri=spotify:track:0VokHXtSNOpnlMWDMT9kPD&amp;theme=white\" width=\"300\" height=\"80\" frameborder=\"0\" allowtransparency=\"true\" allow=\"encrypted-media\" data-testid=\"audio-player\">\n",
       "    </iframe>\n",
       "    "
      ],
      "text/plain": [
       "<IPython.core.display.HTML object>"
      ]
     },
     "metadata": {},
     "output_type": "display_data"
    },
    {
     "data": {
      "text/html": [
       "\n",
       "    <iframe src=\"https://open.spotify.com/embed?uri=spotify:track:65aJGPXs2i8orwZK9z8x4r&amp;theme=white\" width=\"300\" height=\"80\" frameborder=\"0\" allowtransparency=\"true\" allow=\"encrypted-media\" data-testid=\"audio-player\">\n",
       "    </iframe>\n",
       "    "
      ],
      "text/plain": [
       "<IPython.core.display.HTML object>"
      ]
     },
     "metadata": {},
     "output_type": "display_data"
    },
    {
     "data": {
      "text/html": [
       "\n",
       "    <iframe src=\"https://open.spotify.com/embed?uri=spotify:track:7JbHx1w8yllNESuyp9SYv3&amp;theme=white\" width=\"300\" height=\"80\" frameborder=\"0\" allowtransparency=\"true\" allow=\"encrypted-media\" data-testid=\"audio-player\">\n",
       "    </iframe>\n",
       "    "
      ],
      "text/plain": [
       "<IPython.core.display.HTML object>"
      ]
     },
     "metadata": {},
     "output_type": "display_data"
    },
    {
     "data": {
      "text/html": [
       "\n",
       "    <iframe src=\"https://open.spotify.com/embed?uri=spotify:track:1Ob57NqUydp5cC3FCNV4Gy&amp;theme=white\" width=\"300\" height=\"80\" frameborder=\"0\" allowtransparency=\"true\" allow=\"encrypted-media\" data-testid=\"audio-player\">\n",
       "    </iframe>\n",
       "    "
      ],
      "text/plain": [
       "<IPython.core.display.HTML object>"
      ]
     },
     "metadata": {},
     "output_type": "display_data"
    }
   ],
   "source": [
    "search_term = 'depeche mode'\n",
    "data = get_tracks(search_term)\n",
    "# pprint.pprint(data)\n",
    "\n",
    "for track in data['tracks']['items']:\n",
    "    track_id = track['id']\n",
    "\n",
    "    # display album cover:\n",
    "    display(HTML(get_spotify_player(track_id)))"
   ]
  },
  {
   "cell_type": "code",
   "execution_count": null,
   "metadata": {},
   "outputs": [],
   "source": []
  }
 ],
 "metadata": {
  "kernelspec": {
   "display_name": "Python 3",
   "language": "python",
   "name": "python3"
  },
  "language_info": {
   "codemirror_mode": {
    "name": "ipython",
    "version": 3
   },
   "file_extension": ".py",
   "mimetype": "text/x-python",
   "name": "python",
   "nbconvert_exporter": "python",
   "pygments_lexer": "ipython3",
   "version": "3.7.0"
  }
 },
 "nbformat": 4,
 "nbformat_minor": 2
}
