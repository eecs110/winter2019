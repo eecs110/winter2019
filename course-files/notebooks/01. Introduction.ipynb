{
 "cells": [
  {
   "cell_type": "markdown",
   "metadata": {},
   "source": [
    "# FIRST EXAMPLE\n",
    "1. [Introduction](#1.-Introduction)\n",
    "2. [First example](#2.-First-Example)\n",
    "3. [Running the example](#3.-Running-the-Example-with-Jupyter)\n",
    "4. [Summary](#4.-Summary)"
   ]
  },
  {
   "cell_type": "code",
   "execution_count": 1,
   "metadata": {},
   "outputs": [
    {
     "data": {
      "text/html": [
       "<!-- some HTML formatting. Ignore this cell -->\n",
       "<style>\n",
       "    .tbl td, .tbl th { text-align: left; }\n",
       "    .tbl { max-width: 700px; }\n",
       "    .tbl td:last-child { width: 250px; }\n",
       "</style>"
      ],
      "text/plain": [
       "<IPython.core.display.HTML object>"
      ]
     },
     "metadata": {},
     "output_type": "display_data"
    }
   ],
   "source": [
    "%%html\n",
    "<!-- some HTML formatting. Ignore this cell -->\n",
    "<style>\n",
    "    .tbl td, .tbl th { text-align: left; }\n",
    "    .tbl { max-width: 700px; }\n",
    "    .tbl td:last-child { width: 250px; }\n",
    "</style>"
   ]
  },
  {
   "cell_type": "markdown",
   "metadata": {},
   "source": [
    "## 1. Introduction\n",
    "> The following text and example are taken from UC Berkeley's [CS61A course textbook](http://composingprograms.com/pages/11-getting-started.html#programming-in-python), by John DeNero.\n",
    "\n",
    "In order to define computational processes, we need a programming language; preferably one that many humans and a great variety of computers can all understand. In this text, we will work primarily with the Python language.\n",
    "\n",
    "Python is a widely used programming language that has recruited enthusiasts from many professions: web programmers, game engineers, scientists, academics, and even designers of new programming languages. When you learn Python, you join a million-person-strong community of developers. Developer communities are tremendously important institutions: members help each other solve problems, share their projects and experiences, and collectively develop software and tools. Dedicated members often achieve celebrity and widespread esteem for their contributions.\n",
    "\n",
    "The Python language itself is the product of a large volunteer community. The language was conceived and first implemented by Guido van Rossum in the late 1980's. The first chapter of his [Python 3 Tutorial](https://docs.python.org/3/tutorial/appetite.html) explains why Python is so popular, among the many languages available today.\n",
    "\n",
    "Python excels as an instructional language because, throughout its history, Python's developers have emphasized the human interpretability of Python code, reinforced by the Zen of Python guiding principles of beauty, simplicity, and readability. To view some of Python's guiding principles, simply type `import this` at the Python command prompt.\n",
    "\n",
    "```python\n",
    ">>> import this\n",
    "```\n",
    "    The Zen of Python, by Tim Peters\n",
    "    \n",
    "    Beautiful is better than ugly.\n",
    "    Explicit is better than implicit.\n",
    "    Simple is better than complex.\n",
    "    Complex is better than complicated.\n",
    "    Flat is better than nested.\n",
    "    Sparse is better than dense.\n",
    "    Readability counts.\n",
    "    Special cases aren't special enough to break the rules.\n",
    "    Although practicality beats purity.\n",
    "    Errors should never pass silently.\n",
    "    Unless explicitly silenced.\n",
    "    In the face of ambiguity, refuse the temptation to guess.\n",
    "    There should be one-- and preferably only one --obvious way to do it.\n",
    "    Although that way may not be obvious at first unless you're Dutch.\n",
    "    Now is better than never.\n",
    "    Although never is often better than *right* now.\n",
    "    If the implementation is hard to explain, it's a bad idea.\n",
    "    If the implementation is easy to explain, it may be a good idea.\n",
    "    Namespaces are one honking great idea -- let's do more of those!\n",
    "\n",
    "\n",
    "Its broad set of features support a variety of different programming styles, which we will explore. While there is no single way to program in Python, there are a set of conventions shared across the developer community that facilitate reading, understanding, and extending existing programs. Python's combination of great flexibility and accessibility allows students to explore many programming paradigms, and then apply their newly acquired knowledge to thousands of ongoing projects.\n",
    "\n",
    "The best way to get started programming in Python is to interact with the interpreter directly. This section describes how to install Python 3, initiate an interactive session with the interpreter, and start programming."
   ]
  },
  {
   "cell_type": "markdown",
   "metadata": {},
   "source": [
    "### 1.1. Installing Python 3\n",
    "LINK OUT TO GUIDE"
   ]
  },
  {
   "cell_type": "markdown",
   "metadata": {},
   "source": [
    "### 1.2. Interactive Sessions\n",
    "In an interactive Python session, you type some Python code after the prompt, >>>. The Python interpreter reads and executes what you type, carrying out your various commands.\n",
    "\n",
    "To start an interactive session, run the Python 3 application. Type **python** at a terminal prompt (Mac/Unix/Linux) or open the Python application in Windows.\n",
    "\n",
    "If you see the Python prompt, >>>, then you have successfully started an interactive session. These notes depict example interactions using the prompt, followed by some input.\n",
    "\n",
    "```python\n",
    ">>> 2 + 2\n",
    "4\n",
    "```\n",
    "\n",
    "**Interactive controls.** Each session keeps a history of what you have typed. To access that history, press Control-P (previous) and Control-N (next). Control-D exits a session, which discards this history. Up and down arrows also cycle through history on some systems."
   ]
  },
  {
   "cell_type": "markdown",
   "metadata": {},
   "source": [
    "## 2. First Example\n",
    "To give Python a proper introduction, we will begin with an example that uses several language features. In the next section, we will start from scratch and build up the language piece by piece. Think of this section as a sneak preview of features to come.\n",
    "\n",
    "Python has built-in support for a wide range of common programming activities, such as manipulating text, displaying graphics, and communicating over the Internet. The line of Python code\n",
    "\n",
    "```python\n",
    ">>> from urllib.request import urlopen\n",
    "```\n",
    "is an **import** statement that loads functionality for accessing data on the Internet. In particular, it makes available a function called **urlopen**, which can access the content at a uniform resource locator (URL), a location of something on the Internet."
   ]
  },
  {
   "cell_type": "markdown",
   "metadata": {},
   "source": [
    "### 2.1. Statements & Expressions\n",
    "Python code consists of expressions and statements. Broadly, computer programs consist of instructions to either\n",
    "\n",
    "1. Compute some value\n",
    "2. Carry out some action \n",
    "\n",
    "Statements typically describe actions. When the Python interpreter executes a statement, it carries out the corresponding action. On the other hand, expressions typically describe computations. When Python evaluates an expression, it computes the value of that expression. This chapter introduces several types of statements and expressions.\n",
    "\n",
    "The assignment statement\n",
    "\n",
    "```python\n",
    ">>> shakespeare = urlopen('http://composingprograms.com/shakespeare.txt') \n",
    "```\n",
    "associates the name **shakespeare** with the value of the expression that follows **=**. That expression applies the **urlopen** function to a URL that contains the complete text of William Shakespeare's 37 plays, all in a single text document.\n",
    "\n",
    "**NOTE:** When you enter an expression in an interactive session, Python prints its value on the following line.\n",
    "```python\n",
    ">>> 2 + 2 / 4\n",
    "2.5\n",
    "```"
   ]
  },
  {
   "cell_type": "markdown",
   "metadata": {},
   "source": [
    "\n",
    "### 2.2. Functions\n",
    "Functions encapsulate logic that manipulates data. **urlopen** is a function. A web address is a piece of data, and the text of Shakespeare's plays is another. The process by which the former leads to the latter may be complex, but we can apply that process using only a simple expression because that complexity is tucked away within a function. Functions are the primary topic of this chapter.\n",
    "\n",
    "Another assignment statement\n",
    "\n",
    "```python\n",
    ">>> words = set(shakespeare.read().decode().split()) \n",
    "```\n",
    "associates the name **words** to the set of all unique words that appear in Shakespeare's plays, all 33,721 of them. The chain of commands to **read**, **decode**, and **split**, each operate on an intermediate computational entity: we read the data from the opened URL, then decode the data into text, and finally split the text into words. All of those words are placed in a **set**."
   ]
  },
  {
   "cell_type": "markdown",
   "metadata": {},
   "source": [
    "### 2.3. Objects\n",
    "A set is a type of object, one that supports set operations like computing intersections and membership. An object seamlessly bundles together data and the logic that manipulates that data, in a way that manages the complexity of both. Everything in Python is an object, and each object **type** has its own unique properties. To find out what data and logic (i.e. attributes and methods) an object possesses, use the **dir** function.\n",
    "\n",
    "```python\n",
    ">>> # An object of type \"set\":\n",
    ">>> type(words)\n",
    "<class 'set'>\n",
    ">>> dir(words)\n",
    "['__and__', '__class__', '__contains__', '__delattr__', '__dir__', '__doc__', '__eq__', '__format__', '__ge__', '__getattribute__', '__gt__', '__hash__', '__iand__', '__init__', '__init_subclass__', '__ior__', '__isub__', '__iter__', '__ixor__', '__le__', '__len__', '__lt__', '__ne__', '__new__', '__or__', '__rand__', '__reduce__', '__reduce_ex__', '__repr__', '__ror__', '__rsub__', '__rxor__', '__setattr__', '__sizeof__', '__str__', '__sub__', '__subclasshook__', '__xor__', 'add', 'clear', 'copy', 'difference', 'difference_update', 'discard', 'intersection', 'intersection_update', 'isdisjoint', 'issubset', 'issuperset', 'pop', 'remove', 'symmetric_difference', 'symmetric_difference_update', 'union', 'update']\n",
    "\n",
    ">>> # An object of type \"string\":\n",
    ">>> type('Hi there')\n",
    "<class 'str'>\n",
    ">>> dir('Hi there')\n",
    "['__add__', '__class__', '__contains__', '__delattr__', '__dir__', '__doc__', '__eq__', '__format__', '__ge__', '__getattribute__', '__getitem__', '__getnewargs__', '__gt__', '__hash__', '__init__', '__init_subclass__', '__iter__', '__le__', '__len__', '__lt__', '__mod__', '__mul__', '__ne__', '__new__', '__reduce__', '__reduce_ex__', '__repr__', '__rmod__', '__rmul__', '__setattr__', '__sizeof__', '__str__', '__subclasshook__', 'capitalize', 'casefold', 'center', 'count', 'encode', 'endswith', 'expandtabs', 'find', 'format', 'format_map', 'index', 'isalnum', 'isalpha', 'isascii', 'isdecimal', 'isdigit', 'isidentifier', 'islower', 'isnumeric', 'isprintable', 'isspace', 'istitle', 'isupper', 'join', 'ljust', 'lower', 'lstrip', 'maketrans', 'partition', 'replace', 'rfind', 'rindex', 'rjust', 'rpartition', 'rsplit', 'rstrip', 'split', 'splitlines', 'startswith', 'strip', 'swapcase', 'title', 'translate', 'upper', 'zfill']\n",
    "```"
   ]
  },
  {
   "cell_type": "markdown",
   "metadata": {},
   "source": [
    "## 3. Running the Example with Jupyter\n",
    "In the section below, we will use executable cells to run an example of analyzing words in Shakespeare's plays.\n",
    "### 3.1. Retrieving and parsing words"
   ]
  },
  {
   "cell_type": "code",
   "execution_count": null,
   "metadata": {},
   "outputs": [],
   "source": [
    "from urllib.request import urlopen\n",
    "shakespeare = urlopen('http://composingprograms.com/shakespeare.txt')"
   ]
  },
  {
   "cell_type": "code",
   "execution_count": null,
   "metadata": {
    "scrolled": false
   },
   "outputs": [],
   "source": [
    "words = shakespeare.read().decode().lower().split()\n",
    "\n",
    "# Count all of the words:\n",
    "print('The number of total words is:', len(words))\n",
    "\n",
    "# print first 20 words of the words list:\n",
    "print('\\nThe first 20 words are:', words[0:20])"
   ]
  },
  {
   "cell_type": "code",
   "execution_count": null,
   "metadata": {},
   "outputs": [],
   "source": [
    "# get a list of distinct words by converting the list to a set:\n",
    "distinct_words = set(words)\n",
    "\n",
    "# count all of the distinct words:\n",
    "print('\\nThe number of distinct words is:', len(distinct_words))"
   ]
  },
  {
   "cell_type": "markdown",
   "metadata": {},
   "source": [
    "### 3.2. Calculating word frequencies\n",
    "What are the 20 most common words? Python modules make it easy to perform calculations\n",
    "that would take longer to program from scratch and / or do manually."
   ]
  },
  {
   "cell_type": "code",
   "execution_count": null,
   "metadata": {
    "scrolled": false
   },
   "outputs": [],
   "source": [
    "# module that does sequence calculations:\n",
    "from collections import Counter\n",
    "print('Most common words:', Counter(words).most_common(20))"
   ]
  },
  {
   "cell_type": "markdown",
   "metadata": {},
   "source": [
    "### 3.3 Filtering"
   ]
  },
  {
   "cell_type": "code",
   "execution_count": null,
   "metadata": {},
   "outputs": [],
   "source": [
    "# create a simple function to get rid of punctuations, articles, conjunctions, etc.\n",
    "def filter_out_short_words(word):\n",
    "    if len(word) >= 5:\n",
    "        return True\n",
    "    return False\n",
    "\n",
    "# use the built-in filter function with my custom filter to remove words that are less than 5 characters\n",
    "big_words = filter(filter_out_short_words, words)\n",
    "\n",
    "# now find the most commont 20 words\n",
    "print('\\n\\nMost common big words:', Counter(big_words).most_common(20))"
   ]
  },
  {
   "cell_type": "markdown",
   "metadata": {},
   "source": [
    "### 3.4. Visualizing the most common words"
   ]
  },
  {
   "cell_type": "code",
   "execution_count": null,
   "metadata": {
    "scrolled": false
   },
   "outputs": [],
   "source": [
    "# get most common n words (feel free to change this number)\n",
    "import matplotlib as mpl\n",
    "import matplotlib.pyplot as plt\n",
    "\n",
    "\n",
    "n = 20\n",
    "big_words = filter(filter_out_short_words, words)\n",
    "most_common = Counter(big_words).most_common(n)\n",
    "most_common_reversed = sorted(most_common, key=lambda x: x[1])\n",
    "\n",
    "# get the words out of the list of tuples\n",
    "top_n_words = [n[0] for n in most_common_reversed]\n",
    "\n",
    "# get the counts out of the list of tuples\n",
    "counts = [n[1] for n in most_common_reversed]\n",
    "\n",
    "# draw a bar chart with counts\n",
    "bar_width = 0.3\n",
    "mpl.rcParams['axes.linewidth'] = 0\n",
    "plt.figure(figsize=(10,int(n*bar_width))) # width, height\n",
    "plt.barh(top_n_words, counts, align=\"center\", alpha=0.5)\n",
    "plt.title('\\n\\nWhat are the top {0} most common words in \"A Midsummer Night\\'s Dream?\"\"'.format(n))\n",
    "\n",
    "# hide x-axis labels\n",
    "frame = plt.gca()\n",
    "frame.axes.get_xaxis().set_ticks([])\n",
    "\n",
    "# label bar w/count:\n",
    "for i, v in enumerate(counts):\n",
    "    plt.text(v + 3, i - bar_width/3*2, str(v), color='#444444')\n",
    "    \n",
    "plt.show()"
   ]
  },
  {
   "cell_type": "markdown",
   "metadata": {},
   "source": [
    "## 4. Summary\n",
    "### What should I be getting from these examples?\n",
    "The purpose of these examples is to walk you through one Python-based programming \n",
    "application: analyzing files (i.e. What are the most common words?) and presenting \n",
    "information in a way that is (hopefully) easier to understand (e.g. graphically). \n",
    "In doing so, we have used many programming constructs that we will be covering in this \n",
    "course. Some other important concepts to note:"
   ]
  },
  {
   "cell_type": "markdown",
   "metadata": {},
   "source": [
    "### 4.1. Data Types\n",
    "In this example, we worked with a number of different data types. Some are primitive data types (e.g. strings, floats, integers, and booleans). Others are complex data types (lists, sets, tuples). You can also build your own custom types. Some of the data types used are listed below:\n",
    "\n",
    "<table class=\"tbl\">\n",
    "    <thead>\n",
    "        <tr>\n",
    "            <th>data type</th>\n",
    "            <th>category</th>\n",
    "            <th>description</th>\n",
    "            <th>examples from the code above</th>\n",
    "        </tr>\n",
    "    </thead>\n",
    "    <tbody>\n",
    "        <tr>\n",
    "            <td>string</td>\n",
    "            <td>primitive</td>\n",
    "            <td>A sequence of characters</td>\n",
    "            <td>\n",
    "                <ul>\n",
    "                    <li>'The number of total words is:'</li>\n",
    "                    <li>words[0]</li>\n",
    "                </ul>\n",
    "            </td>\n",
    "        </tr>\n",
    "        <tr>\n",
    "            <td>int</td>\n",
    "            <td>primitive</td>\n",
    "            <td>Any integer</td>\n",
    "            <td>\n",
    "                <ul>\n",
    "                    <li>n</li>\n",
    "                    <li>20</li>\n",
    "                    <li>len(words)</li>\n",
    "                </ul>\n",
    "            </td>\n",
    "        </tr>\n",
    "        <tr>\n",
    "            <td>float</td>\n",
    "            <td>primitive</td>\n",
    "            <td>Any decimal number</td>\n",
    "            <td>\n",
    "                <ul>\n",
    "                    <li>bar_width</li>\n",
    "                    <li>0.3</li>\n",
    "                    <li>alpha</li>\n",
    "                </ul>\n",
    "            </td>\n",
    "        </tr>\n",
    "        <tr>\n",
    "            <td>\n",
    "                boolean\n",
    "            </td>\n",
    "            <td>\n",
    "                primitive\n",
    "            </td>\n",
    "            <td>\n",
    "                 true or false\n",
    "            </td>\n",
    "            <td>\n",
    "                <ul>\n",
    "                    <li>True</li>\n",
    "                    <li>False</li>\n",
    "                    <li>\n",
    "                        len(word) >= 5\n",
    "                        <br>(any expression that evaluates to True or False)\n",
    "                    </li>\n",
    "                </ul>\n",
    "            </td>\n",
    "        </tr>\n",
    "        <tr>\n",
    "            <td>\n",
    "                list\n",
    "            </td>\n",
    "            <td>\n",
    "                complex\n",
    "            </td>\n",
    "            <td>\n",
    "                 A mutable (changable) ordered sequence of elements\n",
    "            </td>\n",
    "            <td>\n",
    "                <ul>\n",
    "                    <li>words (list of strings)</li>\n",
    "                    <li>top_n_words (list of strings)</li>\n",
    "                    <li>counts (list of ints)</li>\n",
    "                    <li>most_common (list of tuples)</li>\n",
    "                </ul>\n",
    "            </td>\n",
    "        </tr>\n",
    "        <tr>\n",
    "            <td>\n",
    "                set\n",
    "            </td>\n",
    "            <td>\n",
    "                complex\n",
    "            </td>\n",
    "            <td>\n",
    "                 An unordered collection data type that is mutable, and has no duplicate elements\n",
    "            </td>\n",
    "            <td>\n",
    "                 <ul>\n",
    "                    <li>distinct_words</li>\n",
    "                    <li>set(words)</li>\n",
    "                </ul>\n",
    "            </td>\n",
    "        </tr>\n",
    "        <tr>\n",
    "            <td>\n",
    "                tuple\n",
    "            </td>\n",
    "            <td>\n",
    "                complex\n",
    "            </td>\n",
    "            <td>\n",
    "                 Similar to a list except for that tuples cannot be changed (the are immutable), and they use parentheses (whereas lists use square brackets)\n",
    "            </td>\n",
    "            <td>\n",
    "                most_common[0], most_common_reversed[12]\n",
    "            </td>\n",
    "        </tr>\n",
    "    </tbody>\n",
    "</table>"
   ]
  },
  {
   "cell_type": "markdown",
   "metadata": {},
   "source": [
    "### 4.2. Modules\n",
    "Python modules provide high-level functionality so that you don't \n",
    "have to write as much code from scratch -- particularly for common\n",
    "functionality (like counting, sorting, and filtering things). In \n",
    "this course, we will use many different kinds of modules in order\n",
    "to take advantage of interesting applications of computer programming.\n",
    "In the examples above, we used the following modules, which we imported:\n",
    "\n",
    "* `urllib`, which helps you make requests and parse files from URLs\n",
    "* `matplotlib`, which helps you make charts and graphs\n",
    "* `collections`, which helps you perform operations on collections"
   ]
  },
  {
   "cell_type": "markdown",
   "metadata": {},
   "source": [
    "### 4.3. Functions\n",
    "#### 4.3.1. Built-in functions\n",
    "Like modules, there are a number of functions that are part of the Python language \n",
    "that do common things. In this example, the following built-in functions were used:\n",
    "```python\n",
    "type    # tells you an object's type\n",
    "dir     # tells you the attributes and methods associated with a particular object type\n",
    "len     # calculated the length of a list, set, or string\n",
    "set     # converted a list to an unordered collection of distinct elements\n",
    "filter  # filtered a list according to a filtering function\n",
    "print   # outputted a string to the console\n",
    "sorted  # sorted a list according to a condition that I specificed\n",
    "```\n",
    "\n",
    "#### 4.3.2. Custom functions\n",
    "We also made our own filter function in the [filtering](#3.-Filtering) section, where we instantiated a simple rule for filtering out 'junk' words. If a word is at least 5 characters, keep it, otherwise ignore it. In reality, this function would be 'smarter,' but this is just an example. We will learn more about filtering in the second half of the course.\n",
    "\n",
    "```python\n",
    "def filter_out_short_words(word):\n",
    "    if len(word) >= 5:\n",
    "        return True\n",
    "    return False\n",
    "```"
   ]
  },
  {
   "cell_type": "markdown",
   "metadata": {},
   "source": [
    "### 4.4. Control\n",
    "Finally (and you probably already noticed), there is a specific order in which the interpreter runs a program. Learning the rules for executing a program in appropriate order is a key learning objective in this course. Code can branch and repeat. It can be executed when particular events are called. We will explore a number of different scenarios."
   ]
  }
 ],
 "metadata": {
  "kernelspec": {
   "display_name": "Python 3",
   "language": "python",
   "name": "python3"
  },
  "language_info": {
   "codemirror_mode": {
    "name": "ipython",
    "version": 3
   },
   "file_extension": ".py",
   "mimetype": "text/x-python",
   "name": "python",
   "nbconvert_exporter": "python",
   "pygments_lexer": "ipython3",
   "version": "3.7.0"
  }
 },
 "nbformat": 4,
 "nbformat_minor": 2
}
